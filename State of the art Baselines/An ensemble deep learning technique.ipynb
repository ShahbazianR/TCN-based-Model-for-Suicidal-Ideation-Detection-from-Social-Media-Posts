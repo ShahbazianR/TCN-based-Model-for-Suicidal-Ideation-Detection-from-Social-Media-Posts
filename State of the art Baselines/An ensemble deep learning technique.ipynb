{
  "cells": [
    {
      "cell_type": "markdown",
      "metadata": {
        "id": "CDz2zz8VMKAc"
      },
      "source": [
        "## Paper:\n",
        "2021, Science Direct,\n",
        "An ensemble deep learning technique for detecting suicidal ideation from posts in social media platforms;\n",
        "\n",
        "Dataset: Twitter"
      ]
    },
    {
      "cell_type": "code",
      "execution_count": null,
      "metadata": {
        "id": "HrNNSu2SvDu_"
      },
      "outputs": [],
      "source": [
        "!pip install tensorflow"
      ]
    },
    {
      "cell_type": "code",
      "execution_count": null,
      "metadata": {
        "colab": {
          "base_uri": "https://localhost:8080/"
        },
        "id": "kooyGq4wvLzM",
        "outputId": "0a13de2a-e05d-4095-ddf9-6e5e0c38edc2"
      },
      "outputs": [
        {
          "name": "stdout",
          "output_type": "stream",
          "text": [
            "Looking in indexes: https://pypi.org/simple, https://us-python.pkg.dev/colab-wheels/public/simple/\n",
            "Requirement already satisfied: keras in /usr/local/lib/python3.7/dist-packages (2.9.0)\n"
          ]
        }
      ],
      "source": [
        "!pip install keras"
      ]
    },
    {
      "cell_type": "code",
      "execution_count": null,
      "metadata": {
        "colab": {
          "base_uri": "https://localhost:8080/"
        },
        "id": "TR0FLVP_3QVC",
        "outputId": "6b64ed29-fd4a-41c4-887c-6176279e1e51"
      },
      "outputs": [
        {
          "name": "stdout",
          "output_type": "stream",
          "text": [
            "Mounted at /content/drive\n"
          ]
        }
      ],
      "source": [
        "from google.colab import drive\n",
        "drive.mount('/content/drive')"
      ]
    },
    {
      "cell_type": "code",
      "execution_count": null,
      "metadata": {
        "colab": {
          "base_uri": "https://localhost:8080/"
        },
        "id": "iPV3VqutL_tm",
        "outputId": "b2fe0270-8f41-41a0-833d-e8e4fd2d9f4e"
      },
      "outputs": [
        {
          "name": "stderr",
          "output_type": "stream",
          "text": [
            "[nltk_data] Downloading package punkt to /root/nltk_data...\n",
            "[nltk_data]   Unzipping tokenizers/punkt.zip.\n",
            "[nltk_data] Downloading package stopwords to /root/nltk_data...\n",
            "[nltk_data]   Unzipping corpora/stopwords.zip.\n"
          ]
        }
      ],
      "source": [
        "import pandas as pd\n",
        "import numpy as np\n",
        "from gensim.models import Word2Vec\n",
        "import matplotlib.pyplot as plt\n",
        "import tensorflow as tf\n",
        "from keras.layers import *\n",
        "from keras.models import *\n",
        "from nltk.tokenize import word_tokenize\n",
        "from keras_preprocessing.sequence import pad_sequences\n",
        "from keras.preprocessing.text import Tokenizer\n",
        "from nltk.corpus import stopwords\n",
        "from sklearn.model_selection import train_test_split\n",
        "import keras.backend as K\n",
        "from keras.layers import Layer\n",
        "import gensim\n",
        "\n",
        "import nltk\n",
        "nltk.download('punkt')\n",
        "nltk.download('stopwords')\n",
        "from nltk.corpus import stopwords\n",
        "\n",
        "import warnings\n",
        "warnings.filterwarnings(action = 'ignore')"
      ]
    },
    {
      "cell_type": "code",
      "execution_count": null,
      "metadata": {
        "id": "eK-6z9HjMmI-"
      },
      "outputs": [],
      "source": [
        "#Preprocessing function\n",
        "def preprocessing(data_frame):\n",
        "    ## Preprocessing\n",
        "    # Removing URLs whithin the tweets\n",
        "    data_frame[\"Text\"] = data_frame[\"Text\"].str.replace(r'\\s*https?://\\S+(\\s+|$)', ' ').str.strip()\n",
        "    # Removing emails, hashtags and punctuations\n",
        "    data_frame['Text'] = data_frame[\"Text\"].str.replace(r'\\S*@\\S*\\s?', ' ').str.strip()\n",
        "    data_frame['Text'] = data_frame['Text'].str.replace(r'#\\S*\\s?', ' ').str.strip()\n",
        "    data_frame['Text'] = data_frame['Text'].str.replace(r'[^\\w\\s]+', ' ').str.strip()\n",
        "\n",
        "    # Lowercase Text\n",
        "    data_frame['Text'] = data_frame['Text'].str.lower()\n",
        "\n",
        "    # # Removing stopwords\n",
        "    stop = stopwords.words('english')\n",
        "    data_frame['Text'].apply(lambda x: [item for item in str(x) if item not in stop])\n",
        "\n",
        "    # Removing newline characters\n",
        "    data_frame['Text'] = data_frame['Text'].str.rstrip()\n",
        "\n",
        "    # Tokenizing Posts and counting the length of each post\n",
        "    data_frame['Tokens'] = data_frame.apply(lambda row: word_tokenize(str(row['Text'])), axis=1)\n",
        "    data_frame['Length'] = data_frame.apply(lambda row: len(row['Tokens']), axis=1)\n",
        "\n",
        "    return data_frame"
      ]
    },
    {
      "cell_type": "code",
      "execution_count": null,
      "metadata": {
        "id": "NWGI8Zd1MsKH"
      },
      "outputs": [],
      "source": [
        "# a custome Attention layer\n",
        "class Attention(Layer):\n",
        "  def __init__ (self, return_sequences=True):\n",
        "    self.return_sequences = return_sequences\n",
        "    super(Attention, self).__init__()\n",
        "\n",
        "  def build (self, input_shape):\n",
        "    self.W = self.add_weight(name=\"att_weight\", shape=(input_shape[-1],1), initializer=\"normal\")\n",
        "    self.b = self.add_weight(name=\"att_bias\", shape=(input_shape[1],1), initializer=\"zeros\")\n",
        "    super(Attention, self).build(input_shape)\n",
        "\n",
        "  def call(self, x):\n",
        "    e = K.tanh(K.dot(x, self.W)+self.b)\n",
        "    a = K.softmax(e, axis=1)\n",
        "    output = x*a\n",
        "    if self.return_sequences:\n",
        "      return output\n",
        "    return K.sum(output, axis = 1)\n"
      ]
    },
    {
      "cell_type": "code",
      "execution_count": null,
      "metadata": {
        "colab": {
          "base_uri": "https://localhost:8080/",
          "height": 424
        },
        "id": "UGPiPa9oMuCT",
        "outputId": "71a45ef6-f0f9-40f6-cc04-97b2d8a45ad4"
      },
      "outputs": [
        {
          "data": {
            "text/html": [
              "\n",
              "  <div id=\"df-ecdd0027-ce40-44a3-9ff8-855d592f5a41\">\n",
              "    <div class=\"colab-df-container\">\n",
              "      <div>\n",
              "<style scoped>\n",
              "    .dataframe tbody tr th:only-of-type {\n",
              "        vertical-align: middle;\n",
              "    }\n",
              "\n",
              "    .dataframe tbody tr th {\n",
              "        vertical-align: top;\n",
              "    }\n",
              "\n",
              "    .dataframe thead th {\n",
              "        text-align: right;\n",
              "    }\n",
              "</style>\n",
              "<table border=\"1\" class=\"dataframe\">\n",
              "  <thead>\n",
              "    <tr style=\"text-align: right;\">\n",
              "      <th></th>\n",
              "      <th>Text</th>\n",
              "      <th>Label</th>\n",
              "      <th>Tokens</th>\n",
              "      <th>Length</th>\n",
              "    </tr>\n",
              "  </thead>\n",
              "  <tbody>\n",
              "    <tr>\n",
              "      <th>0</th>\n",
              "      <td>always made me feel worthless but all of a sud...</td>\n",
              "      <td>1</td>\n",
              "      <td>[always, made, me, feel, worthless, but, all, ...</td>\n",
              "      <td>14</td>\n",
              "    </tr>\n",
              "    <tr>\n",
              "      <th>1</th>\n",
              "      <td>hope i die in my sleep tonite</td>\n",
              "      <td>1</td>\n",
              "      <td>[hope, i, die, in, my, sleep, tonite]</td>\n",
              "      <td>7</td>\n",
              "    </tr>\n",
              "    <tr>\n",
              "      <th>2</th>\n",
              "      <td>my life sucks just want to give up and cry</td>\n",
              "      <td>1</td>\n",
              "      <td>[my, life, sucks, just, want, to, give, up, an...</td>\n",
              "      <td>10</td>\n",
              "    </tr>\n",
              "    <tr>\n",
              "      <th>3</th>\n",
              "      <td>breed of queensland male who shouldâ ve alread...</td>\n",
              "      <td>1</td>\n",
              "      <td>[breed, of, queensland, male, who, shouldâ, ve...</td>\n",
              "      <td>49</td>\n",
              "    </tr>\n",
              "    <tr>\n",
              "      <th>4</th>\n",
              "      <td>closer to killing myself everyday famsquad ð  ...</td>\n",
              "      <td>1</td>\n",
              "      <td>[closer, to, killing, myself, everyday, famsqu...</td>\n",
              "      <td>16</td>\n",
              "    </tr>\n",
              "    <tr>\n",
              "      <th>...</th>\n",
              "      <td>...</td>\n",
              "      <td>...</td>\n",
              "      <td>...</td>\n",
              "      <td>...</td>\n",
              "    </tr>\n",
              "    <tr>\n",
              "      <th>105227</th>\n",
              "      <td>once in a lifetime experience</td>\n",
              "      <td>0</td>\n",
              "      <td>[once, in, a, lifetime, experience]</td>\n",
              "      <td>5</td>\n",
              "    </tr>\n",
              "    <tr>\n",
              "      <th>105228</th>\n",
              "      <td>love coldplay and chris martin</td>\n",
              "      <td>0</td>\n",
              "      <td>[love, coldplay, and, chris, martin]</td>\n",
              "      <td>5</td>\n",
              "    </tr>\n",
              "    <tr>\n",
              "      <th>105229</th>\n",
              "      <td>chris martin is the bomb</td>\n",
              "      <td>0</td>\n",
              "      <td>[chris, martin, is, the, bomb]</td>\n",
              "      <td>5</td>\n",
              "    </tr>\n",
              "    <tr>\n",
              "      <th>105230</th>\n",
              "      <td>love coldplay</td>\n",
              "      <td>0</td>\n",
              "      <td>[love, coldplay]</td>\n",
              "      <td>2</td>\n",
              "    </tr>\n",
              "    <tr>\n",
              "      <th>105231</th>\n",
              "      <td>i love chris martin</td>\n",
              "      <td>0</td>\n",
              "      <td>[i, love, chris, martin]</td>\n",
              "      <td>4</td>\n",
              "    </tr>\n",
              "  </tbody>\n",
              "</table>\n",
              "<p>105232 rows × 4 columns</p>\n",
              "</div>\n",
              "      <button class=\"colab-df-convert\" onclick=\"convertToInteractive('df-ecdd0027-ce40-44a3-9ff8-855d592f5a41')\"\n",
              "              title=\"Convert this dataframe to an interactive table.\"\n",
              "              style=\"display:none;\">\n",
              "        \n",
              "  <svg xmlns=\"http://www.w3.org/2000/svg\" height=\"24px\"viewBox=\"0 0 24 24\"\n",
              "       width=\"24px\">\n",
              "    <path d=\"M0 0h24v24H0V0z\" fill=\"none\"/>\n",
              "    <path d=\"M18.56 5.44l.94 2.06.94-2.06 2.06-.94-2.06-.94-.94-2.06-.94 2.06-2.06.94zm-11 1L8.5 8.5l.94-2.06 2.06-.94-2.06-.94L8.5 2.5l-.94 2.06-2.06.94zm10 10l.94 2.06.94-2.06 2.06-.94-2.06-.94-.94-2.06-.94 2.06-2.06.94z\"/><path d=\"M17.41 7.96l-1.37-1.37c-.4-.4-.92-.59-1.43-.59-.52 0-1.04.2-1.43.59L10.3 9.45l-7.72 7.72c-.78.78-.78 2.05 0 2.83L4 21.41c.39.39.9.59 1.41.59.51 0 1.02-.2 1.41-.59l7.78-7.78 2.81-2.81c.8-.78.8-2.07 0-2.86zM5.41 20L4 18.59l7.72-7.72 1.47 1.35L5.41 20z\"/>\n",
              "  </svg>\n",
              "      </button>\n",
              "      \n",
              "  <style>\n",
              "    .colab-df-container {\n",
              "      display:flex;\n",
              "      flex-wrap:wrap;\n",
              "      gap: 12px;\n",
              "    }\n",
              "\n",
              "    .colab-df-convert {\n",
              "      background-color: #E8F0FE;\n",
              "      border: none;\n",
              "      border-radius: 50%;\n",
              "      cursor: pointer;\n",
              "      display: none;\n",
              "      fill: #1967D2;\n",
              "      height: 32px;\n",
              "      padding: 0 0 0 0;\n",
              "      width: 32px;\n",
              "    }\n",
              "\n",
              "    .colab-df-convert:hover {\n",
              "      background-color: #E2EBFA;\n",
              "      box-shadow: 0px 1px 2px rgba(60, 64, 67, 0.3), 0px 1px 3px 1px rgba(60, 64, 67, 0.15);\n",
              "      fill: #174EA6;\n",
              "    }\n",
              "\n",
              "    [theme=dark] .colab-df-convert {\n",
              "      background-color: #3B4455;\n",
              "      fill: #D2E3FC;\n",
              "    }\n",
              "\n",
              "    [theme=dark] .colab-df-convert:hover {\n",
              "      background-color: #434B5C;\n",
              "      box-shadow: 0px 1px 3px 1px rgba(0, 0, 0, 0.15);\n",
              "      filter: drop-shadow(0px 1px 2px rgba(0, 0, 0, 0.3));\n",
              "      fill: #FFFFFF;\n",
              "    }\n",
              "  </style>\n",
              "\n",
              "      <script>\n",
              "        const buttonEl =\n",
              "          document.querySelector('#df-ecdd0027-ce40-44a3-9ff8-855d592f5a41 button.colab-df-convert');\n",
              "        buttonEl.style.display =\n",
              "          google.colab.kernel.accessAllowed ? 'block' : 'none';\n",
              "\n",
              "        async function convertToInteractive(key) {\n",
              "          const element = document.querySelector('#df-ecdd0027-ce40-44a3-9ff8-855d592f5a41');\n",
              "          const dataTable =\n",
              "            await google.colab.kernel.invokeFunction('convertToInteractive',\n",
              "                                                     [key], {});\n",
              "          if (!dataTable) return;\n",
              "\n",
              "          const docLinkHtml = 'Like what you see? Visit the ' +\n",
              "            '<a target=\"_blank\" href=https://colab.research.google.com/notebooks/data_table.ipynb>data table notebook</a>'\n",
              "            + ' to learn more about interactive tables.';\n",
              "          element.innerHTML = '';\n",
              "          dataTable['output_type'] = 'display_data';\n",
              "          await google.colab.output.renderOutput(dataTable, element);\n",
              "          const docLink = document.createElement('div');\n",
              "          docLink.innerHTML = docLinkHtml;\n",
              "          element.appendChild(docLink);\n",
              "        }\n",
              "      </script>\n",
              "    </div>\n",
              "  </div>\n",
              "  "
            ],
            "text/plain": [
              "                                                     Text  Label  \\\n",
              "0       always made me feel worthless but all of a sud...      1   \n",
              "1                           hope i die in my sleep tonite      1   \n",
              "2              my life sucks just want to give up and cry      1   \n",
              "3       breed of queensland male who shouldâ ve alread...      1   \n",
              "4       closer to killing myself everyday famsquad ð  ...      1   \n",
              "...                                                   ...    ...   \n",
              "105227                      once in a lifetime experience      0   \n",
              "105228                     love coldplay and chris martin      0   \n",
              "105229                           chris martin is the bomb      0   \n",
              "105230                                      love coldplay      0   \n",
              "105231                                i love chris martin      0   \n",
              "\n",
              "                                                   Tokens  Length  \n",
              "0       [always, made, me, feel, worthless, but, all, ...      14  \n",
              "1                   [hope, i, die, in, my, sleep, tonite]       7  \n",
              "2       [my, life, sucks, just, want, to, give, up, an...      10  \n",
              "3       [breed, of, queensland, male, who, shouldâ, ve...      49  \n",
              "4       [closer, to, killing, myself, everyday, famsqu...      16  \n",
              "...                                                   ...     ...  \n",
              "105227                [once, in, a, lifetime, experience]       5  \n",
              "105228               [love, coldplay, and, chris, martin]       5  \n",
              "105229                     [chris, martin, is, the, bomb]       5  \n",
              "105230                                   [love, coldplay]       2  \n",
              "105231                           [i, love, chris, martin]       4  \n",
              "\n",
              "[105232 rows x 4 columns]"
            ]
          },
          "execution_count": 5,
          "metadata": {},
          "output_type": "execute_result"
        }
      ],
      "source": [
        "## Preparing the data\n",
        "# Twitter 56000\n",
        "Twitter_path = \"/Datasets/Twitter/suicideTweetData_56000.csv\"  ## positive samples\n",
        "facebook_samples = \"/Datasets/Facebook/100_000_samples.csv\"  ## negative samples\n",
        "\n",
        "## reading the abovementioned datasets\n",
        "df_t = pd.read_csv(Twitter_path, encoding='latin-1')\n",
        "df_f = pd.read_csv(facebook_samples, encoding='latin-1', usecols=['message'], nrows=len(df_t['Tweet']))\n",
        "\n",
        "## Preprocessing\n",
        "messages_list = []\n",
        "for row in range(len(df_t['Tweet'])):\n",
        "    messages_list.append([df_t['Tweet'][row], 1])\n",
        "for row in range(len(df_f['message'])):\n",
        "    messages_list.append([df_f['message'][row], 0])\n",
        "del df_f, df_t\n",
        "df = pd.DataFrame(messages_list, columns=['Text', 'Label'])\n",
        "df = preprocessing(df)\n",
        "df"
      ]
    },
    {
      "cell_type": "code",
      "execution_count": null,
      "metadata": {
        "colab": {
          "base_uri": "https://localhost:8080/"
        },
        "id": "JQCrp8lQBT6R",
        "outputId": "13b4d323-4745-4a29-9ad6-6b5d32c70540"
      },
      "outputs": [
        {
          "name": "stdout",
          "output_type": "stream",
          "text": [
            "52616 52616\n"
          ]
        }
      ],
      "source": [
        "print(list(df['Label']).count(1), list(df['Label']).count(0))"
      ]
    },
    {
      "cell_type": "markdown",
      "metadata": {
        "id": "Tg0UG2nw55cP"
      },
      "source": [
        "# Word2Vec model"
      ]
    },
    {
      "cell_type": "code",
      "execution_count": null,
      "metadata": {
        "id": "utQ3pnH-O2Xy"
      },
      "outputs": [],
      "source": [
        "model_path = \"/w2v_models/twitter10000/w2v_model_T10\"\n",
        "# word embeddings\n",
        "# word2vec embedding\n",
        "wd2vc_model = gensim.models.Word2Vec(df['Tokens'], min_count = 1, size = 300, window = 5)\n",
        "wd2vc_model.train(df['Tokens'],epochs=10,total_examples=len(df['Tokens']))\n",
        "wd2vc_model.save(model_path)"
      ]
    },
    {
      "cell_type": "code",
      "execution_count": null,
      "metadata": {
        "id": "Bs8WA41CeJuH"
      },
      "outputs": [],
      "source": [
        "# model_path = \"/w2v_models/twitter_facebook_CBOW/w2v_models_TF\"\n",
        "# wd2vc_model = Word2Vec.load(model_path)"
      ]
    },
    {
      "cell_type": "code",
      "execution_count": null,
      "metadata": {
        "id": "nemhPwxRc-W3"
      },
      "outputs": [],
      "source": [
        "# words most similar to a given word.\n",
        "similar_words = wd2vc_model.wv.most_similar('kill')\n",
        "print(similar_words)"
      ]
    },
    {
      "cell_type": "code",
      "execution_count": null,
      "metadata": {
        "id": "GszZD67_ex9v"
      },
      "outputs": [],
      "source": [
        "## Now creating a dictionary with words in vocab and their embeddings.\n",
        "# This will be used when we will be creating embedding matrix (for feeding to keras embedding layer).\n",
        "\n",
        "vocab = wd2vc_model.wv.vocab\n",
        "print(\"The total number of words are : \", len(vocab))\n",
        "vocab = list(vocab.keys())\n",
        "\n",
        "word_vec_dict = {}\n",
        "for word in vocab:\n",
        "    word_vec_dict[word] = wd2vc_model.wv.get_vector(word)\n",
        "print(\"The no of key-value pairs : \", len(word_vec_dict))  # should come equal to vocab size\n",
        "\n",
        "max_length = max(df['Length'])\n",
        "print(\"maximum length = \", max_length)\n",
        "\n",
        "tok = Tokenizer()\n",
        "tok.fit_on_texts(df['Tokens'])\n",
        "vocab_size = len(tok.word_index) + 1\n",
        "# Keras padding doesn't work with strings; all characters should be mapped to id (integers)\n",
        "encd_rev = tok.texts_to_sequences(df['Tokens'])\n",
        "\n",
        "embed_dim = 300\n",
        "# now padding to have a amximum length of 6671\n",
        "pad_rev = pad_sequences(encd_rev, maxlen=max_length, padding='post')\n",
        "print(\"pad_shape = \", pad_rev.shape)\n",
        "# note that we had 100K reviews and we have padded each review to have  a lenght of 1565 words.\n",
        "\n",
        "# now creating the embedding matrix\n",
        "embed_matrix = np.zeros(shape=(vocab_size, embed_dim))\n",
        "print(embed_matrix.shape)\n",
        "for word, i in tok.word_index.items():\n",
        "    embed_vector = word_vec_dict.get(word)\n",
        "    if embed_vector is not None:  # word is in the vocabulary learned by the w2v model\n",
        "        embed_matrix[i] = embed_vector\n",
        "        # if word is not found then embed_vector corressponding to that vector will stay zero.\n"
      ]
    },
    {
      "cell_type": "code",
      "execution_count": null,
      "metadata": {
        "id": "-H-iKJZrU8Ub"
      },
      "outputs": [],
      "source": [
        "# from sklearn import preprocessing\n",
        "# pad_rev = preprocessing.normalize(pad_rev)\n",
        "# pad_rev"
      ]
    },
    {
      "cell_type": "code",
      "execution_count": null,
      "metadata": {
        "colab": {
          "base_uri": "https://localhost:8080/"
        },
        "id": "67H3qC6Je9dV",
        "outputId": "309c31c5-a94d-4638-9145-a7932ad7990a"
      },
      "outputs": [
        {
          "name": "stdout",
          "output_type": "stream",
          "text": [
            "Train =  (67348, 1355) (67348,)\n",
            "Test =  (21047, 1355) (21047,)\n",
            "Validation =  (16837, 1355) (16837,)\n"
          ]
        }
      ],
      "source": [
        "## Spliting the data\n",
        "X, X_test, y, y_test = train_test_split(pad_rev, df['Label'], shuffle=True, test_size=0.2, random_state=42)\n",
        "\n",
        "X_train, X_val, y_train, y_val = train_test_split(X, y, test_size=0.2, random_state=33)\n",
        "\n",
        "print(\"Train = \", X_train.shape, y_train.shape)\n",
        "print(\"Test = \", X_test.shape, y_test.shape)\n",
        "print(\"Validation = \",X_val.shape, y_val.shape)\n"
      ]
    },
    {
      "cell_type": "markdown",
      "metadata": {
        "id": "3uIYr-cM5_oJ"
      },
      "source": [
        "# Implemented model"
      ]
    },
    {
      "cell_type": "code",
      "execution_count": null,
      "metadata": {
        "id": "9Z5B8pDcfA48"
      },
      "outputs": [],
      "source": [
        "from keras.initializers import Constant\n",
        "\n",
        "model = tf.keras.models.Sequential()\n",
        "model.add(tf.keras.layers.Embedding(input_dim=vocab_size, output_dim=embed_dim, input_length=max_length, embeddings_initializer=Constant(embed_matrix)))\n",
        "# model.add(tf.keras.layers.Input(shape=X_train.shape[1]))\n",
        "model.add(tf.keras.layers.Dropout(0.5))\n",
        "model.add(tf.keras.layers.LSTM(units=100, return_sequences=True))\n",
        "model.add(Attention(return_sequences=True))\n",
        "model.add(tf.keras.layers.Conv1D(3, (8,), padding='same', activation='relu'))\n",
        "model.add(tf.keras.layers.MaxPooling1D(2))\n",
        "model.add(tf.keras.layers.Flatten())\n",
        "# model.add(Dense(4, activation='softmax')) ##4labels\n",
        "model.add(tf.keras.layers.Dense(2, activation='softmax'))  ##2 labels\n",
        "\n",
        "model.summary()"
      ]
    },
    {
      "cell_type": "code",
      "execution_count": null,
      "metadata": {
        "id": "p2DlpuT_fLmL"
      },
      "outputs": [],
      "source": [
        "model.compile(optimizer='adam', loss='sparse_categorical_crossentropy', metrics=['accuracy'])\n",
        "# specify batch size and epochs for training.\n",
        "epochs = 10\n",
        "batch_size = 32\n",
        "r = model.fit(X_train, y_train, epochs=epochs, batch_size=batch_size, validation_data=(X_val, y_val))"
      ]
    },
    {
      "cell_type": "markdown",
      "metadata": {
        "id": "5Qfxdwh5eugM"
      },
      "source": [
        "## Plotting the performance"
      ]
    },
    {
      "cell_type": "code",
      "execution_count": null,
      "metadata": {
        "id": "tiXi3Jy2mCLZ"
      },
      "outputs": [],
      "source": [
        "plt.plot(r.history['loss'], label='loss')\n",
        "plt.plot(r.history['val_loss'], label='val_loss')\n",
        "plt.legend()"
      ]
    },
    {
      "cell_type": "code",
      "execution_count": null,
      "metadata": {
        "id": "eASSAtL2mI_7"
      },
      "outputs": [],
      "source": [
        "plt.plot(r.history['accuracy'], label='accuracy')\n",
        "plt.plot(r.history['val_accuracy'], label='val_accuracy')\n",
        "plt.legend()"
      ]
    },
    {
      "cell_type": "markdown",
      "metadata": {
        "id": "9pufO1xce0OI"
      },
      "source": [
        "## Prediction"
      ]
    },
    {
      "cell_type": "code",
      "execution_count": null,
      "metadata": {
        "id": "pds1OThhmMSW"
      },
      "outputs": [],
      "source": [
        "#Prediction on the test data\n",
        "pred = model.predict(X_test)\n",
        "print(pred)"
      ]
    },
    {
      "cell_type": "code",
      "execution_count": null,
      "metadata": {
        "id": "qhsfpqj0mPoG"
      },
      "outputs": [],
      "source": [
        "y_pred = np.zeros(len(pred))\n",
        "for item in range(len(pred)):\n",
        "    y_pred[item] = list(pred[item]).index(max(pred[item]))\n",
        "\n",
        "print(y_pred)"
      ]
    },
    {
      "cell_type": "code",
      "execution_count": null,
      "metadata": {
        "id": "xm-zXpTmmXs_"
      },
      "outputs": [],
      "source": [
        "import sklearn\n",
        "\n",
        "report = sklearn.metrics.classification_report(y_test, y_pred)\n",
        "print(report)\n",
        "accuracy = sklearn.metrics.accuracy_score(y_test, y_pred)\n",
        "precision = sklearn.metrics.precision_score(y_test, y_pred)\n",
        "recall = sklearn.metrics.recall_score(y_test, y_pred)\n",
        "f1score = sklearn.metrics.f1_score(y_test, y_pred)\n",
        "print(\"-----------------------\")\n",
        "print(accuracy)\n",
        "print(precision)\n",
        "print(recall)\n",
        "print(f1score)"
      ]
    }
  ],
  "metadata": {
    "accelerator": "GPU",
    "colab": {
      "provenance": []
    },
    "gpuClass": "standard",
    "kernelspec": {
      "display_name": "Python 3",
      "name": "python3"
    },
    "language_info": {
      "name": "python"
    }
  },
  "nbformat": 4,
  "nbformat_minor": 0
}
