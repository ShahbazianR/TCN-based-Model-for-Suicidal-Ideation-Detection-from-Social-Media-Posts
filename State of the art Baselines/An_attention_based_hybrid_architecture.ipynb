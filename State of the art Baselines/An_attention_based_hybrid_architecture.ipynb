{
  "cells": [
    {
      "cell_type": "markdown",
      "metadata": {
        "id": "OCHYwLyyCf3k"
      },
      "source": [
        "Implementation of the paper proposed by Ghosh et al. entitled *\"An attention-based hybrid architecture with explainability for depressive social media text detection in Bangla\"* in 2023.\n"
      ]
    },
    {
      "cell_type": "code",
      "execution_count": null,
      "metadata": {
        "colab": {
          "base_uri": "https://localhost:8080/"
        },
        "id": "skpVyfyD7dEv",
        "outputId": "0f9e6a26-f552-48a9-c470-126c24deb42e"
      },
      "outputs": [
        {
          "name": "stdout",
          "output_type": "stream",
          "text": [
            "Drive already mounted at /content/drive; to attempt to forcibly remount, call drive.mount(\"/content/drive\", force_remount=True).\n"
          ]
        }
      ],
      "source": [
        "from google.colab import drive\n",
        "drive.mount('/content/drive')"
      ]
    },
    {
      "cell_type": "code",
      "execution_count": null,
      "metadata": {
        "colab": {
          "base_uri": "https://localhost:8080/"
        },
        "id": "8EFwSONyD758",
        "outputId": "0360e20e-ea7b-4781-b946-5ba48f2782ca"
      },
      "outputs": [
        {
          "name": "stdout",
          "output_type": "stream",
          "text": [
            "Requirement already satisfied: keras_preprocessing in /usr/local/lib/python3.10/dist-packages (1.1.2)\n",
            "Requirement already satisfied: numpy>=1.9.1 in /usr/local/lib/python3.10/dist-packages (from keras_preprocessing) (1.23.5)\n",
            "Requirement already satisfied: six>=1.9.0 in /usr/local/lib/python3.10/dist-packages (from keras_preprocessing) (1.16.0)\n"
          ]
        }
      ],
      "source": [
        "! pip install keras_preprocessing"
      ]
    },
    {
      "cell_type": "code",
      "execution_count": null,
      "metadata": {
        "colab": {
          "base_uri": "https://localhost:8080/"
        },
        "id": "Bb3qf3seD2FB",
        "outputId": "cef1a0d1-a88f-4ea5-d90b-c9b8b61bd2dd"
      },
      "outputs": [
        {
          "name": "stderr",
          "output_type": "stream",
          "text": [
            "WARNING:tensorflow:From /usr/local/lib/python3.10/dist-packages/tensorflow/python/ops/distributions/distribution.py:259: ReparameterizationType.__init__ (from tensorflow.python.ops.distributions.distribution) is deprecated and will be removed after 2019-01-01.\n",
            "Instructions for updating:\n",
            "The TensorFlow Distributions library has moved to TensorFlow Probability (https://github.com/tensorflow/probability). You should update all references to use `tfp.distributions` instead of `tf.distributions`.\n",
            "WARNING:tensorflow:From /usr/local/lib/python3.10/dist-packages/tensorflow/python/ops/distributions/bernoulli.py:165: RegisterKL.__init__ (from tensorflow.python.ops.distributions.kullback_leibler) is deprecated and will be removed after 2019-01-01.\n",
            "Instructions for updating:\n",
            "The TensorFlow Distributions library has moved to TensorFlow Probability (https://github.com/tensorflow/probability). You should update all references to use `tfp.distributions` instead of `tf.distributions`.\n",
            "[nltk_data] Downloading package punkt to /root/nltk_data...\n",
            "[nltk_data]   Package punkt is already up-to-date!\n",
            "[nltk_data] Downloading package stopwords to /root/nltk_data...\n",
            "[nltk_data]   Package stopwords is already up-to-date!\n"
          ]
        }
      ],
      "source": [
        "import pandas as pd\n",
        "import numpy as np\n",
        "from gensim.models import Word2Vec\n",
        "import matplotlib.pyplot as plt\n",
        "import tensorflow as tf\n",
        "# from tensorflow.keras.layers import *\n",
        "# from tensorflow.keras.models import *\n",
        "from nltk.tokenize import word_tokenize\n",
        "from keras_preprocessing.sequence import pad_sequences\n",
        "from keras.preprocessing.text import Tokenizer\n",
        "from nltk.corpus import stopwords\n",
        "from sklearn.model_selection import train_test_split\n",
        "import keras.backend as K\n",
        "import gensim\n",
        "from sklearn.metrics import classification_report, accuracy_score, precision_score, recall_score, f1_score\n",
        "\n",
        "import nltk\n",
        "nltk.download('punkt')\n",
        "nltk.download('stopwords')\n",
        "from nltk.corpus import stopwords\n",
        "\n",
        "import warnings\n",
        "warnings.filterwarnings(action = 'ignore')"
      ]
    },
    {
      "cell_type": "code",
      "execution_count": null,
      "metadata": {
        "id": "eQ_Q0xPuEMeR"
      },
      "outputs": [],
      "source": [
        "#Preprocessing function\n",
        "def preprocessing(data_frame):\n",
        "    ## Preprocessing\n",
        "    # Removing URLs whithin the tweets\n",
        "    data_frame[\"Text\"] = data_frame[\"Text\"].str.replace(r'\\s*https?://\\S+(\\s+|$)', ' ').str.strip()\n",
        "    # Removing emails, hashtags and punctuations\n",
        "    data_frame['Text'] = data_frame[\"Text\"].str.replace(r'\\S*@\\S*\\s?', ' ').str.strip()\n",
        "    data_frame['Text'] = data_frame['Text'].str.replace(r'#\\S*\\s?', ' ').str.strip()\n",
        "    data_frame['Text'] = data_frame['Text'].str.replace(r'[^\\w\\s]+', ' ').str.strip()\n",
        "\n",
        "    # # Removing stopwords\n",
        "    stop = stopwords.words('english')\n",
        "    data_frame['Text'].apply(lambda x: [item for item in str(x) if item not in stop])\n",
        "\n",
        "    # Removing newline characters\n",
        "    data_frame['Text'] = data_frame['Text'].str.rstrip()\n",
        "\n",
        "    # Tokenizing Posts and counting the length of each post\n",
        "    data_frame['Tokens'] = data_frame.apply(lambda row: word_tokenize(str(row['Text'])), axis=1)\n",
        "    data_frame['Length'] = data_frame.apply(lambda row: len(row['Tokens']), axis=1)\n",
        "\n",
        "    return data_frame"
      ]
    },
    {
      "cell_type": "markdown",
      "metadata": {
        "id": "Kaxvssh_An3w"
      },
      "source": [
        "# Data"
      ]
    },
    {
      "cell_type": "code",
      "execution_count": null,
      "metadata": {
        "id": "fZjHbBHHAZfs"
      },
      "outputs": [],
      "source": [
        "DS_Path = \"/Datasets\""
      ]
    },
    {
      "cell_type": "markdown",
      "metadata": {
        "id": "Y3Hj8CPuAo6F"
      },
      "source": [
        "### Twitter 1"
      ]
    },
    {
      "cell_type": "code",
      "execution_count": null,
      "metadata": {
        "colab": {
          "base_uri": "https://localhost:8080/",
          "height": 424
        },
        "id": "UGPiPa9oMuCT",
        "outputId": "19184dab-5be2-4c1c-8de3-378064852a27"
      },
      "outputs": [
        {
          "data": {
            "text/html": [
              "\n",
              "\n",
              "  <div id=\"df-3159c994-6c70-41c1-96d5-5b31540bca9a\">\n",
              "    <div class=\"colab-df-container\">\n",
              "      <div>\n",
              "<style scoped>\n",
              "    .dataframe tbody tr th:only-of-type {\n",
              "        vertical-align: middle;\n",
              "    }\n",
              "\n",
              "    .dataframe tbody tr th {\n",
              "        vertical-align: top;\n",
              "    }\n",
              "\n",
              "    .dataframe thead th {\n",
              "        text-align: right;\n",
              "    }\n",
              "</style>\n",
              "<table border=\"1\" class=\"dataframe\">\n",
              "  <thead>\n",
              "    <tr style=\"text-align: right;\">\n",
              "      <th></th>\n",
              "      <th>Text</th>\n",
              "      <th>Label</th>\n",
              "      <th>Tokens</th>\n",
              "      <th>Length</th>\n",
              "    </tr>\n",
              "  </thead>\n",
              "  <tbody>\n",
              "    <tr>\n",
              "      <th>0</th>\n",
              "      <td>my life is meaningless i just want to end my l...</td>\n",
              "      <td>1</td>\n",
              "      <td>[my, life, is, meaningless, i, just, want, to,...</td>\n",
              "      <td>79</td>\n",
              "    </tr>\n",
              "    <tr>\n",
              "      <th>1</th>\n",
              "      <td>muttering i wanna die to myself daily for a fe...</td>\n",
              "      <td>1</td>\n",
              "      <td>[muttering, i, wan, na, die, to, myself, daily...</td>\n",
              "      <td>46</td>\n",
              "    </tr>\n",
              "    <tr>\n",
              "      <th>2</th>\n",
              "      <td>work slave i really feel like my only purpose ...</td>\n",
              "      <td>1</td>\n",
              "      <td>[work, slave, i, really, feel, like, my, only,...</td>\n",
              "      <td>69</td>\n",
              "    </tr>\n",
              "    <tr>\n",
              "      <th>3</th>\n",
              "      <td>i did something on the 2 of october i overdose...</td>\n",
              "      <td>1</td>\n",
              "      <td>[i, did, something, on, the, 2, of, october, i...</td>\n",
              "      <td>77</td>\n",
              "    </tr>\n",
              "    <tr>\n",
              "      <th>4</th>\n",
              "      <td>i feel like no one cares i just want to die ma...</td>\n",
              "      <td>1</td>\n",
              "      <td>[i, feel, like, no, one, cares, i, just, want,...</td>\n",
              "      <td>18</td>\n",
              "    </tr>\n",
              "    <tr>\n",
              "      <th>...</th>\n",
              "      <td>...</td>\n",
              "      <td>...</td>\n",
              "      <td>...</td>\n",
              "      <td>...</td>\n",
              "    </tr>\n",
              "    <tr>\n",
              "      <th>9114</th>\n",
              "      <td>have you ever laid on your bed at night and cr...</td>\n",
              "      <td>1</td>\n",
              "      <td>[have, you, ever, laid, on, your, bed, at, nig...</td>\n",
              "      <td>33</td>\n",
              "    </tr>\n",
              "    <tr>\n",
              "      <th>9115</th>\n",
              "      <td>the fault the blame the pain s still there i m...</td>\n",
              "      <td>1</td>\n",
              "      <td>[the, fault, the, blame, the, pain, s, still, ...</td>\n",
              "      <td>20</td>\n",
              "    </tr>\n",
              "    <tr>\n",
              "      <th>9116</th>\n",
              "      <td>stop asking me to trust you when i m still cou...</td>\n",
              "      <td>1</td>\n",
              "      <td>[stop, asking, me, to, trust, you, when, i, m,...</td>\n",
              "      <td>22</td>\n",
              "    </tr>\n",
              "    <tr>\n",
              "      <th>9117</th>\n",
              "      <td>i never know how to handle sadness crying make...</td>\n",
              "      <td>1</td>\n",
              "      <td>[i, never, know, how, to, handle, sadness, cry...</td>\n",
              "      <td>12</td>\n",
              "    </tr>\n",
              "    <tr>\n",
              "      <th>9118</th>\n",
              "      <td>when cancer takes a life we blame cancer depre...</td>\n",
              "      <td>1</td>\n",
              "      <td>[when, cancer, takes, a, life, we, blame, canc...</td>\n",
              "      <td>21</td>\n",
              "    </tr>\n",
              "  </tbody>\n",
              "</table>\n",
              "<p>9119 rows × 4 columns</p>\n",
              "</div>\n",
              "      <button class=\"colab-df-convert\" onclick=\"convertToInteractive('df-3159c994-6c70-41c1-96d5-5b31540bca9a')\"\n",
              "              title=\"Convert this dataframe to an interactive table.\"\n",
              "              style=\"display:none;\">\n",
              "\n",
              "  <svg xmlns=\"http://www.w3.org/2000/svg\" height=\"24px\"viewBox=\"0 0 24 24\"\n",
              "       width=\"24px\">\n",
              "    <path d=\"M0 0h24v24H0V0z\" fill=\"none\"/>\n",
              "    <path d=\"M18.56 5.44l.94 2.06.94-2.06 2.06-.94-2.06-.94-.94-2.06-.94 2.06-2.06.94zm-11 1L8.5 8.5l.94-2.06 2.06-.94-2.06-.94L8.5 2.5l-.94 2.06-2.06.94zm10 10l.94 2.06.94-2.06 2.06-.94-2.06-.94-.94-2.06-.94 2.06-2.06.94z\"/><path d=\"M17.41 7.96l-1.37-1.37c-.4-.4-.92-.59-1.43-.59-.52 0-1.04.2-1.43.59L10.3 9.45l-7.72 7.72c-.78.78-.78 2.05 0 2.83L4 21.41c.39.39.9.59 1.41.59.51 0 1.02-.2 1.41-.59l7.78-7.78 2.81-2.81c.8-.78.8-2.07 0-2.86zM5.41 20L4 18.59l7.72-7.72 1.47 1.35L5.41 20z\"/>\n",
              "  </svg>\n",
              "      </button>\n",
              "\n",
              "\n",
              "\n",
              "    <div id=\"df-cb007cdf-70be-4f13-83fe-f0907ebaaeba\">\n",
              "      <button class=\"colab-df-quickchart\" onclick=\"quickchart('df-cb007cdf-70be-4f13-83fe-f0907ebaaeba')\"\n",
              "              title=\"Suggest charts.\"\n",
              "              style=\"display:none;\">\n",
              "\n",
              "<svg xmlns=\"http://www.w3.org/2000/svg\" height=\"24px\"viewBox=\"0 0 24 24\"\n",
              "     width=\"24px\">\n",
              "    <g>\n",
              "        <path d=\"M19 3H5c-1.1 0-2 .9-2 2v14c0 1.1.9 2 2 2h14c1.1 0 2-.9 2-2V5c0-1.1-.9-2-2-2zM9 17H7v-7h2v7zm4 0h-2V7h2v10zm4 0h-2v-4h2v4z\"/>\n",
              "    </g>\n",
              "</svg>\n",
              "      </button>\n",
              "    </div>\n",
              "\n",
              "<style>\n",
              "  .colab-df-quickchart {\n",
              "    background-color: #E8F0FE;\n",
              "    border: none;\n",
              "    border-radius: 50%;\n",
              "    cursor: pointer;\n",
              "    display: none;\n",
              "    fill: #1967D2;\n",
              "    height: 32px;\n",
              "    padding: 0 0 0 0;\n",
              "    width: 32px;\n",
              "  }\n",
              "\n",
              "  .colab-df-quickchart:hover {\n",
              "    background-color: #E2EBFA;\n",
              "    box-shadow: 0px 1px 2px rgba(60, 64, 67, 0.3), 0px 1px 3px 1px rgba(60, 64, 67, 0.15);\n",
              "    fill: #174EA6;\n",
              "  }\n",
              "\n",
              "  [theme=dark] .colab-df-quickchart {\n",
              "    background-color: #3B4455;\n",
              "    fill: #D2E3FC;\n",
              "  }\n",
              "\n",
              "  [theme=dark] .colab-df-quickchart:hover {\n",
              "    background-color: #434B5C;\n",
              "    box-shadow: 0px 1px 3px 1px rgba(0, 0, 0, 0.15);\n",
              "    filter: drop-shadow(0px 1px 2px rgba(0, 0, 0, 0.3));\n",
              "    fill: #FFFFFF;\n",
              "  }\n",
              "</style>\n",
              "\n",
              "    <script>\n",
              "      async function quickchart(key) {\n",
              "        const containerElement = document.querySelector('#' + key);\n",
              "        const charts = await google.colab.kernel.invokeFunction(\n",
              "            'suggestCharts', [key], {});\n",
              "      }\n",
              "    </script>\n",
              "\n",
              "      <script>\n",
              "\n",
              "function displayQuickchartButton(domScope) {\n",
              "  let quickchartButtonEl =\n",
              "    domScope.querySelector('#df-cb007cdf-70be-4f13-83fe-f0907ebaaeba button.colab-df-quickchart');\n",
              "  quickchartButtonEl.style.display =\n",
              "    google.colab.kernel.accessAllowed ? 'block' : 'none';\n",
              "}\n",
              "\n",
              "        displayQuickchartButton(document);\n",
              "      </script>\n",
              "      <style>\n",
              "    .colab-df-container {\n",
              "      display:flex;\n",
              "      flex-wrap:wrap;\n",
              "      gap: 12px;\n",
              "    }\n",
              "\n",
              "    .colab-df-convert {\n",
              "      background-color: #E8F0FE;\n",
              "      border: none;\n",
              "      border-radius: 50%;\n",
              "      cursor: pointer;\n",
              "      display: none;\n",
              "      fill: #1967D2;\n",
              "      height: 32px;\n",
              "      padding: 0 0 0 0;\n",
              "      width: 32px;\n",
              "    }\n",
              "\n",
              "    .colab-df-convert:hover {\n",
              "      background-color: #E2EBFA;\n",
              "      box-shadow: 0px 1px 2px rgba(60, 64, 67, 0.3), 0px 1px 3px 1px rgba(60, 64, 67, 0.15);\n",
              "      fill: #174EA6;\n",
              "    }\n",
              "\n",
              "    [theme=dark] .colab-df-convert {\n",
              "      background-color: #3B4455;\n",
              "      fill: #D2E3FC;\n",
              "    }\n",
              "\n",
              "    [theme=dark] .colab-df-convert:hover {\n",
              "      background-color: #434B5C;\n",
              "      box-shadow: 0px 1px 3px 1px rgba(0, 0, 0, 0.15);\n",
              "      filter: drop-shadow(0px 1px 2px rgba(0, 0, 0, 0.3));\n",
              "      fill: #FFFFFF;\n",
              "    }\n",
              "  </style>\n",
              "\n",
              "      <script>\n",
              "        const buttonEl =\n",
              "          document.querySelector('#df-3159c994-6c70-41c1-96d5-5b31540bca9a button.colab-df-convert');\n",
              "        buttonEl.style.display =\n",
              "          google.colab.kernel.accessAllowed ? 'block' : 'none';\n",
              "\n",
              "        async function convertToInteractive(key) {\n",
              "          const element = document.querySelector('#df-3159c994-6c70-41c1-96d5-5b31540bca9a');\n",
              "          const dataTable =\n",
              "            await google.colab.kernel.invokeFunction('convertToInteractive',\n",
              "                                                     [key], {});\n",
              "          if (!dataTable) return;\n",
              "\n",
              "          const docLinkHtml = 'Like what you see? Visit the ' +\n",
              "            '<a target=\"_blank\" href=https://colab.research.google.com/notebooks/data_table.ipynb>data table notebook</a>'\n",
              "            + ' to learn more about interactive tables.';\n",
              "          element.innerHTML = '';\n",
              "          dataTable['output_type'] = 'display_data';\n",
              "          await google.colab.output.renderOutput(dataTable, element);\n",
              "          const docLink = document.createElement('div');\n",
              "          docLink.innerHTML = docLinkHtml;\n",
              "          element.appendChild(docLink);\n",
              "        }\n",
              "      </script>\n",
              "    </div>\n",
              "  </div>\n"
            ],
            "text/plain": [
              "                                                   Text  Label  \\\n",
              "0     my life is meaningless i just want to end my l...      1   \n",
              "1     muttering i wanna die to myself daily for a fe...      1   \n",
              "2     work slave i really feel like my only purpose ...      1   \n",
              "3     i did something on the 2 of october i overdose...      1   \n",
              "4     i feel like no one cares i just want to die ma...      1   \n",
              "...                                                 ...    ...   \n",
              "9114  have you ever laid on your bed at night and cr...      1   \n",
              "9115  the fault the blame the pain s still there i m...      1   \n",
              "9116  stop asking me to trust you when i m still cou...      1   \n",
              "9117  i never know how to handle sadness crying make...      1   \n",
              "9118  when cancer takes a life we blame cancer depre...      1   \n",
              "\n",
              "                                                 Tokens  Length  \n",
              "0     [my, life, is, meaningless, i, just, want, to,...      79  \n",
              "1     [muttering, i, wan, na, die, to, myself, daily...      46  \n",
              "2     [work, slave, i, really, feel, like, my, only,...      69  \n",
              "3     [i, did, something, on, the, 2, of, october, i...      77  \n",
              "4     [i, feel, like, no, one, cares, i, just, want,...      18  \n",
              "...                                                 ...     ...  \n",
              "9114  [have, you, ever, laid, on, your, bed, at, nig...      33  \n",
              "9115  [the, fault, the, blame, the, pain, s, still, ...      20  \n",
              "9116  [stop, asking, me, to, trust, you, when, i, m,...      22  \n",
              "9117  [i, never, know, how, to, handle, sadness, cry...      12  \n",
              "9118  [when, cancer, takes, a, life, we, blame, canc...      21  \n",
              "\n",
              "[9119 rows x 4 columns]"
            ]
          },
          "execution_count": 5,
          "metadata": {},
          "output_type": "execute_result"
        }
      ],
      "source": [
        "# ## Preparing the data\n",
        "# ## Twitter 10000\n",
        "Twitter_path = DS_Path + \"/Twitter/twitter-suicidal_data_10000.csv\"\n",
        "df = pd.read_csv(Twitter_path, encoding='latin-1')\n",
        "df = df.rename(columns={'tweet': 'Text', 'intention': 'Label'})\n",
        "df = preprocessing(df)\n",
        "df\n"
      ]
    },
    {
      "cell_type": "markdown",
      "metadata": {
        "id": "nSPSlQHKEz7O"
      },
      "source": [
        "### Twitter 2"
      ]
    },
    {
      "cell_type": "code",
      "execution_count": null,
      "metadata": {
        "colab": {
          "base_uri": "https://localhost:8080/"
        },
        "id": "IWVMl5bCE1R5",
        "outputId": "7885868e-e7a4-4a1c-aa81-bc825a8de767"
      },
      "outputs": [
        {
          "data": {
            "text/html": [
              "\n",
              "\n",
              "  <div id=\"df-0c676b0e-f4ec-45cc-b7e3-5bcde6354126\">\n",
              "    <div class=\"colab-df-container\">\n",
              "      <div>\n",
              "<style scoped>\n",
              "    .dataframe tbody tr th:only-of-type {\n",
              "        vertical-align: middle;\n",
              "    }\n",
              "\n",
              "    .dataframe tbody tr th {\n",
              "        vertical-align: top;\n",
              "    }\n",
              "\n",
              "    .dataframe thead th {\n",
              "        text-align: right;\n",
              "    }\n",
              "</style>\n",
              "<table border=\"1\" class=\"dataframe\">\n",
              "  <thead>\n",
              "    <tr style=\"text-align: right;\">\n",
              "      <th></th>\n",
              "      <th>Text</th>\n",
              "      <th>Label</th>\n",
              "      <th>Tokens</th>\n",
              "      <th>Length</th>\n",
              "    </tr>\n",
              "  </thead>\n",
              "  <tbody>\n",
              "    <tr>\n",
              "      <th>0</th>\n",
              "      <td>to go to treatment if they are actively suicid...</td>\n",
              "      <td>1</td>\n",
              "      <td>[to, go, to, treatment, if, they, are, activel...</td>\n",
              "      <td>41</td>\n",
              "    </tr>\n",
              "    <tr>\n",
              "      <th>1</th>\n",
              "      <td>Thy  should be putting these kids in stabiliza...</td>\n",
              "      <td>1</td>\n",
              "      <td>[Thy, should, be, putting, these, kids, in, st...</td>\n",
              "      <td>49</td>\n",
              "    </tr>\n",
              "    <tr>\n",
              "      <th>2</th>\n",
              "      <td>Might want to talk to her work again</td>\n",
              "      <td>0</td>\n",
              "      <td>[Might, want, to, talk, to, her, work, again]</td>\n",
              "      <td>8</td>\n",
              "    </tr>\n",
              "    <tr>\n",
              "      <th>3</th>\n",
              "      <td>Just a heads head up she think she going goofy...</td>\n",
              "      <td>0</td>\n",
              "      <td>[Just, a, heads, head, up, she, think, she, go...</td>\n",
              "      <td>35</td>\n",
              "    </tr>\n",
              "    <tr>\n",
              "      <th>4</th>\n",
              "      <td>I donâ t believe in religious dogma at all  Fo...</td>\n",
              "      <td>0</td>\n",
              "      <td>[I, donâ, t, believe, in, religious, dogma, at...</td>\n",
              "      <td>47</td>\n",
              "    </tr>\n",
              "    <tr>\n",
              "      <th>...</th>\n",
              "      <td>...</td>\n",
              "      <td>...</td>\n",
              "      <td>...</td>\n",
              "      <td>...</td>\n",
              "    </tr>\n",
              "    <tr>\n",
              "      <th>17137</th>\n",
              "      <td>Make sure you are happy in real life  Not just...</td>\n",
              "      <td>0</td>\n",
              "      <td>[Make, sure, you, are, happy, in, real, life, ...</td>\n",
              "      <td>40</td>\n",
              "    </tr>\n",
              "    <tr>\n",
              "      <th>17138</th>\n",
              "      <td>With one of our keyrings you will never be alo...</td>\n",
              "      <td>0</td>\n",
              "      <td>[With, one, of, our, keyrings, you, will, neve...</td>\n",
              "      <td>20</td>\n",
              "    </tr>\n",
              "    <tr>\n",
              "      <th>17139</th>\n",
              "      <td>Always here if you ever need a chat ð</td>\n",
              "      <td>0</td>\n",
              "      <td>[Always, here, if, you, ever, need, a, chat, ð]</td>\n",
              "      <td>9</td>\n",
              "    </tr>\n",
              "    <tr>\n",
              "      <th>17140</th>\n",
              "      <td>Itâ s not selfish  Suicide is usually caused b...</td>\n",
              "      <td>1</td>\n",
              "      <td>[Itâ, s, not, selfish, Suicide, is, usually, c...</td>\n",
              "      <td>47</td>\n",
              "    </tr>\n",
              "    <tr>\n",
              "      <th>17141</th>\n",
              "      <td>Donâ t forget that by supporting us it gives u...</td>\n",
              "      <td>0</td>\n",
              "      <td>[Donâ, t, forget, that, by, supporting, us, it...</td>\n",
              "      <td>32</td>\n",
              "    </tr>\n",
              "  </tbody>\n",
              "</table>\n",
              "<p>17142 rows × 4 columns</p>\n",
              "</div>\n",
              "      <button class=\"colab-df-convert\" onclick=\"convertToInteractive('df-0c676b0e-f4ec-45cc-b7e3-5bcde6354126')\"\n",
              "              title=\"Convert this dataframe to an interactive table.\"\n",
              "              style=\"display:none;\">\n",
              "\n",
              "  <svg xmlns=\"http://www.w3.org/2000/svg\" height=\"24px\"viewBox=\"0 0 24 24\"\n",
              "       width=\"24px\">\n",
              "    <path d=\"M0 0h24v24H0V0z\" fill=\"none\"/>\n",
              "    <path d=\"M18.56 5.44l.94 2.06.94-2.06 2.06-.94-2.06-.94-.94-2.06-.94 2.06-2.06.94zm-11 1L8.5 8.5l.94-2.06 2.06-.94-2.06-.94L8.5 2.5l-.94 2.06-2.06.94zm10 10l.94 2.06.94-2.06 2.06-.94-2.06-.94-.94-2.06-.94 2.06-2.06.94z\"/><path d=\"M17.41 7.96l-1.37-1.37c-.4-.4-.92-.59-1.43-.59-.52 0-1.04.2-1.43.59L10.3 9.45l-7.72 7.72c-.78.78-.78 2.05 0 2.83L4 21.41c.39.39.9.59 1.41.59.51 0 1.02-.2 1.41-.59l7.78-7.78 2.81-2.81c.8-.78.8-2.07 0-2.86zM5.41 20L4 18.59l7.72-7.72 1.47 1.35L5.41 20z\"/>\n",
              "  </svg>\n",
              "      </button>\n",
              "\n",
              "\n",
              "\n",
              "    <div id=\"df-7f5843c1-cf2f-414a-8c61-106b3ca2861b\">\n",
              "      <button class=\"colab-df-quickchart\" onclick=\"quickchart('df-7f5843c1-cf2f-414a-8c61-106b3ca2861b')\"\n",
              "              title=\"Suggest charts.\"\n",
              "              style=\"display:none;\">\n",
              "\n",
              "<svg xmlns=\"http://www.w3.org/2000/svg\" height=\"24px\"viewBox=\"0 0 24 24\"\n",
              "     width=\"24px\">\n",
              "    <g>\n",
              "        <path d=\"M19 3H5c-1.1 0-2 .9-2 2v14c0 1.1.9 2 2 2h14c1.1 0 2-.9 2-2V5c0-1.1-.9-2-2-2zM9 17H7v-7h2v7zm4 0h-2V7h2v10zm4 0h-2v-4h2v4z\"/>\n",
              "    </g>\n",
              "</svg>\n",
              "      </button>\n",
              "    </div>\n",
              "\n",
              "<style>\n",
              "  .colab-df-quickchart {\n",
              "    background-color: #E8F0FE;\n",
              "    border: none;\n",
              "    border-radius: 50%;\n",
              "    cursor: pointer;\n",
              "    display: none;\n",
              "    fill: #1967D2;\n",
              "    height: 32px;\n",
              "    padding: 0 0 0 0;\n",
              "    width: 32px;\n",
              "  }\n",
              "\n",
              "  .colab-df-quickchart:hover {\n",
              "    background-color: #E2EBFA;\n",
              "    box-shadow: 0px 1px 2px rgba(60, 64, 67, 0.3), 0px 1px 3px 1px rgba(60, 64, 67, 0.15);\n",
              "    fill: #174EA6;\n",
              "  }\n",
              "\n",
              "  [theme=dark] .colab-df-quickchart {\n",
              "    background-color: #3B4455;\n",
              "    fill: #D2E3FC;\n",
              "  }\n",
              "\n",
              "  [theme=dark] .colab-df-quickchart:hover {\n",
              "    background-color: #434B5C;\n",
              "    box-shadow: 0px 1px 3px 1px rgba(0, 0, 0, 0.15);\n",
              "    filter: drop-shadow(0px 1px 2px rgba(0, 0, 0, 0.3));\n",
              "    fill: #FFFFFF;\n",
              "  }\n",
              "</style>\n",
              "\n",
              "    <script>\n",
              "      async function quickchart(key) {\n",
              "        const containerElement = document.querySelector('#' + key);\n",
              "        const charts = await google.colab.kernel.invokeFunction(\n",
              "            'suggestCharts', [key], {});\n",
              "      }\n",
              "    </script>\n",
              "\n",
              "      <script>\n",
              "\n",
              "function displayQuickchartButton(domScope) {\n",
              "  let quickchartButtonEl =\n",
              "    domScope.querySelector('#df-7f5843c1-cf2f-414a-8c61-106b3ca2861b button.colab-df-quickchart');\n",
              "  quickchartButtonEl.style.display =\n",
              "    google.colab.kernel.accessAllowed ? 'block' : 'none';\n",
              "}\n",
              "\n",
              "        displayQuickchartButton(document);\n",
              "      </script>\n",
              "      <style>\n",
              "    .colab-df-container {\n",
              "      display:flex;\n",
              "      flex-wrap:wrap;\n",
              "      gap: 12px;\n",
              "    }\n",
              "\n",
              "    .colab-df-convert {\n",
              "      background-color: #E8F0FE;\n",
              "      border: none;\n",
              "      border-radius: 50%;\n",
              "      cursor: pointer;\n",
              "      display: none;\n",
              "      fill: #1967D2;\n",
              "      height: 32px;\n",
              "      padding: 0 0 0 0;\n",
              "      width: 32px;\n",
              "    }\n",
              "\n",
              "    .colab-df-convert:hover {\n",
              "      background-color: #E2EBFA;\n",
              "      box-shadow: 0px 1px 2px rgba(60, 64, 67, 0.3), 0px 1px 3px 1px rgba(60, 64, 67, 0.15);\n",
              "      fill: #174EA6;\n",
              "    }\n",
              "\n",
              "    [theme=dark] .colab-df-convert {\n",
              "      background-color: #3B4455;\n",
              "      fill: #D2E3FC;\n",
              "    }\n",
              "\n",
              "    [theme=dark] .colab-df-convert:hover {\n",
              "      background-color: #434B5C;\n",
              "      box-shadow: 0px 1px 3px 1px rgba(0, 0, 0, 0.15);\n",
              "      filter: drop-shadow(0px 1px 2px rgba(0, 0, 0, 0.3));\n",
              "      fill: #FFFFFF;\n",
              "    }\n",
              "  </style>\n",
              "\n",
              "      <script>\n",
              "        const buttonEl =\n",
              "          document.querySelector('#df-0c676b0e-f4ec-45cc-b7e3-5bcde6354126 button.colab-df-convert');\n",
              "        buttonEl.style.display =\n",
              "          google.colab.kernel.accessAllowed ? 'block' : 'none';\n",
              "\n",
              "        async function convertToInteractive(key) {\n",
              "          const element = document.querySelector('#df-0c676b0e-f4ec-45cc-b7e3-5bcde6354126');\n",
              "          const dataTable =\n",
              "            await google.colab.kernel.invokeFunction('convertToInteractive',\n",
              "                                                     [key], {});\n",
              "          if (!dataTable) return;\n",
              "\n",
              "          const docLinkHtml = 'Like what you see? Visit the ' +\n",
              "            '<a target=\"_blank\" href=https://colab.research.google.com/notebooks/data_table.ipynb>data table notebook</a>'\n",
              "            + ' to learn more about interactive tables.';\n",
              "          element.innerHTML = '';\n",
              "          dataTable['output_type'] = 'display_data';\n",
              "          await google.colab.output.renderOutput(dataTable, element);\n",
              "          const docLink = document.createElement('div');\n",
              "          docLink.innerHTML = docLinkHtml;\n",
              "          element.appendChild(docLink);\n",
              "        }\n",
              "      </script>\n",
              "    </div>\n",
              "  </div>\n"
            ],
            "text/plain": [
              "                                                    Text  Label  \\\n",
              "0      to go to treatment if they are actively suicid...      1   \n",
              "1      Thy  should be putting these kids in stabiliza...      1   \n",
              "2                   Might want to talk to her work again      0   \n",
              "3      Just a heads head up she think she going goofy...      0   \n",
              "4      I donâ t believe in religious dogma at all  Fo...      0   \n",
              "...                                                  ...    ...   \n",
              "17137  Make sure you are happy in real life  Not just...      0   \n",
              "17138  With one of our keyrings you will never be alo...      0   \n",
              "17139              Always here if you ever need a chat ð      0   \n",
              "17140  Itâ s not selfish  Suicide is usually caused b...      1   \n",
              "17141  Donâ t forget that by supporting us it gives u...      0   \n",
              "\n",
              "                                                  Tokens  Length  \n",
              "0      [to, go, to, treatment, if, they, are, activel...      41  \n",
              "1      [Thy, should, be, putting, these, kids, in, st...      49  \n",
              "2          [Might, want, to, talk, to, her, work, again]       8  \n",
              "3      [Just, a, heads, head, up, she, think, she, go...      35  \n",
              "4      [I, donâ, t, believe, in, religious, dogma, at...      47  \n",
              "...                                                  ...     ...  \n",
              "17137  [Make, sure, you, are, happy, in, real, life, ...      40  \n",
              "17138  [With, one, of, our, keyrings, you, will, neve...      20  \n",
              "17139    [Always, here, if, you, ever, need, a, chat, ð]       9  \n",
              "17140  [Itâ, s, not, selfish, Suicide, is, usually, c...      47  \n",
              "17141  [Donâ, t, forget, that, by, supporting, us, it...      32  \n",
              "\n",
              "[17142 rows x 4 columns]"
            ]
          },
          "execution_count": 6,
          "metadata": {},
          "output_type": "execute_result"
        }
      ],
      "source": [
        "twitter_path = DS_Path + \"/suicidal-tendency-tweets.csv\"\n",
        "df = pd.read_csv(twitter_path, encoding='latin-1', usecols=['tweet', 'intention'], nrows = 17142)\n",
        "df = df.rename(columns={'tweet': 'Text', 'intention': 'Label'})\n",
        "\n",
        "df = preprocessing(df)\n",
        "df"
      ]
    },
    {
      "cell_type": "code",
      "execution_count": null,
      "metadata": {
        "colab": {
          "base_uri": "https://localhost:8080/"
        },
        "id": "BGA9DwlNE-f-",
        "outputId": "89b18793-cb30-47cd-c25e-fb84e5225461"
      },
      "outputs": [
        {
          "name": "stdout",
          "output_type": "stream",
          "text": [
            "3754 13388\n"
          ]
        }
      ],
      "source": [
        "print(list(df['Label']).count(1), list(df['Label']).count(0))"
      ]
    },
    {
      "cell_type": "markdown",
      "metadata": {
        "id": "KJueHyMVArJ3"
      },
      "source": [
        "## Reddit SNS"
      ]
    },
    {
      "cell_type": "code",
      "execution_count": null,
      "metadata": {
        "id": "RhaDCILz4Z10"
      },
      "outputs": [],
      "source": [
        "# ## Preparing the data\n",
        "\n",
        "Reddit_path = DS_Path + \"/Reddit_non suicide  suicide/Suicide_Detection.csv\"\n",
        "\n",
        "## reading the abovementioned datasets\n",
        "# df_r = pd.read_csv(Reddit_path, encoding='latin-1', usecols=['text', 'class'])\n",
        "df_r = pd.read_csv(Reddit_path, encoding='latin-1', usecols=['text', 'class'], nrows = 20000)\n",
        "df_r = df_r.rename(columns={'text': 'Text', 'class': 'Label'})\n",
        "\n",
        "df = preprocessing(df_r)\n",
        "\n",
        "label_dict = {'suicide': 1, 'non-suicide': 0}\n",
        "df['Label'] = df['Label'].apply(lambda row: label_dict[row])\n",
        "df['Label']\n",
        "\n",
        "df"
      ]
    },
    {
      "cell_type": "code",
      "execution_count": null,
      "metadata": {
        "id": "JQCrp8lQBT6R"
      },
      "outputs": [],
      "source": [
        "print(list(df['Label']).count(1), list(df['Label']).count(0))"
      ]
    },
    {
      "cell_type": "markdown",
      "metadata": {
        "id": "pmstlmTy34bz"
      },
      "source": [
        "## Reddit _ SD"
      ]
    },
    {
      "cell_type": "code",
      "execution_count": null,
      "metadata": {
        "colab": {
          "base_uri": "https://localhost:8080/",
          "height": 424
        },
        "id": "XVx9Q8Gb34De",
        "outputId": "dfac7084-c6b7-4de8-f50e-2a10c4a859cb"
      },
      "outputs": [
        {
          "data": {
            "text/html": [
              "\n",
              "\n",
              "  <div id=\"df-e3c85d74-02ea-4e23-b411-43e21dfff9d7\">\n",
              "    <div class=\"colab-df-container\">\n",
              "      <div>\n",
              "<style scoped>\n",
              "    .dataframe tbody tr th:only-of-type {\n",
              "        vertical-align: middle;\n",
              "    }\n",
              "\n",
              "    .dataframe tbody tr th {\n",
              "        vertical-align: top;\n",
              "    }\n",
              "\n",
              "    .dataframe thead th {\n",
              "        text-align: right;\n",
              "    }\n",
              "</style>\n",
              "<table border=\"1\" class=\"dataframe\">\n",
              "  <thead>\n",
              "    <tr style=\"text-align: right;\">\n",
              "      <th></th>\n",
              "      <th>Text</th>\n",
              "      <th>Label</th>\n",
              "      <th>Tokens</th>\n",
              "      <th>Length</th>\n",
              "    </tr>\n",
              "  </thead>\n",
              "  <tbody>\n",
              "    <tr>\n",
              "      <th>0</th>\n",
              "      <td>I recently went through a breakup and she said...</td>\n",
              "      <td>0</td>\n",
              "      <td>[I, recently, went, through, a, breakup, and, ...</td>\n",
              "      <td>121</td>\n",
              "    </tr>\n",
              "    <tr>\n",
              "      <th>1</th>\n",
              "      <td>I do not know how to navigate these feelings  ...</td>\n",
              "      <td>0</td>\n",
              "      <td>[I, do, not, know, how, to, navigate, these, f...</td>\n",
              "      <td>308</td>\n",
              "    </tr>\n",
              "    <tr>\n",
              "      <th>2</th>\n",
              "      <td>So I have been with my bf for 5 months   and h...</td>\n",
              "      <td>0</td>\n",
              "      <td>[So, I, have, been, with, my, bf, for, 5, mont...</td>\n",
              "      <td>131</td>\n",
              "    </tr>\n",
              "    <tr>\n",
              "      <th>3</th>\n",
              "      <td>I am so exhausted of this  Just when I think I...</td>\n",
              "      <td>1</td>\n",
              "      <td>[I, am, so, exhausted, of, this, Just, when, I...</td>\n",
              "      <td>349</td>\n",
              "    </tr>\n",
              "    <tr>\n",
              "      <th>4</th>\n",
              "      <td>I have been severly bullied since i was 5 till...</td>\n",
              "      <td>0</td>\n",
              "      <td>[I, have, been, severly, bullied, since, i, wa...</td>\n",
              "      <td>198</td>\n",
              "    </tr>\n",
              "    <tr>\n",
              "      <th>...</th>\n",
              "      <td>...</td>\n",
              "      <td>...</td>\n",
              "      <td>...</td>\n",
              "      <td>...</td>\n",
              "    </tr>\n",
              "    <tr>\n",
              "      <th>20358</th>\n",
              "      <td>I took 50mg of seroquel a few hours after I dr...</td>\n",
              "      <td>1</td>\n",
              "      <td>[I, took, 50mg, of, seroquel, a, few, hours, a...</td>\n",
              "      <td>35</td>\n",
              "    </tr>\n",
              "    <tr>\n",
              "      <th>20359</th>\n",
              "      <td>that is what has happened to me last week  And...</td>\n",
              "      <td>0</td>\n",
              "      <td>[that, is, what, has, happened, to, me, last, ...</td>\n",
              "      <td>119</td>\n",
              "    </tr>\n",
              "    <tr>\n",
              "      <th>20360</th>\n",
              "      <td>Ever just feel alone in a house full of people...</td>\n",
              "      <td>0</td>\n",
              "      <td>[Ever, just, feel, alone, in, a, house, full, ...</td>\n",
              "      <td>20</td>\n",
              "    </tr>\n",
              "    <tr>\n",
              "      <th>20361</th>\n",
              "      <td>Politicians  Neighbors  Corporations  Society ...</td>\n",
              "      <td>0</td>\n",
              "      <td>[Politicians, Neighbors, Corporations, Society...</td>\n",
              "      <td>31</td>\n",
              "    </tr>\n",
              "    <tr>\n",
              "      <th>20362</th>\n",
              "      <td>I feel like I am just existing  but for what  ...</td>\n",
              "      <td>0</td>\n",
              "      <td>[I, feel, like, I, am, just, existing, but, fo...</td>\n",
              "      <td>133</td>\n",
              "    </tr>\n",
              "  </tbody>\n",
              "</table>\n",
              "<p>20363 rows × 4 columns</p>\n",
              "</div>\n",
              "      <button class=\"colab-df-convert\" onclick=\"convertToInteractive('df-e3c85d74-02ea-4e23-b411-43e21dfff9d7')\"\n",
              "              title=\"Convert this dataframe to an interactive table.\"\n",
              "              style=\"display:none;\">\n",
              "\n",
              "  <svg xmlns=\"http://www.w3.org/2000/svg\" height=\"24px\"viewBox=\"0 0 24 24\"\n",
              "       width=\"24px\">\n",
              "    <path d=\"M0 0h24v24H0V0z\" fill=\"none\"/>\n",
              "    <path d=\"M18.56 5.44l.94 2.06.94-2.06 2.06-.94-2.06-.94-.94-2.06-.94 2.06-2.06.94zm-11 1L8.5 8.5l.94-2.06 2.06-.94-2.06-.94L8.5 2.5l-.94 2.06-2.06.94zm10 10l.94 2.06.94-2.06 2.06-.94-2.06-.94-.94-2.06-.94 2.06-2.06.94z\"/><path d=\"M17.41 7.96l-1.37-1.37c-.4-.4-.92-.59-1.43-.59-.52 0-1.04.2-1.43.59L10.3 9.45l-7.72 7.72c-.78.78-.78 2.05 0 2.83L4 21.41c.39.39.9.59 1.41.59.51 0 1.02-.2 1.41-.59l7.78-7.78 2.81-2.81c.8-.78.8-2.07 0-2.86zM5.41 20L4 18.59l7.72-7.72 1.47 1.35L5.41 20z\"/>\n",
              "  </svg>\n",
              "      </button>\n",
              "\n",
              "\n",
              "\n",
              "    <div id=\"df-9aa70711-53de-4a76-a29b-50d05533fcb6\">\n",
              "      <button class=\"colab-df-quickchart\" onclick=\"quickchart('df-9aa70711-53de-4a76-a29b-50d05533fcb6')\"\n",
              "              title=\"Suggest charts.\"\n",
              "              style=\"display:none;\">\n",
              "\n",
              "<svg xmlns=\"http://www.w3.org/2000/svg\" height=\"24px\"viewBox=\"0 0 24 24\"\n",
              "     width=\"24px\">\n",
              "    <g>\n",
              "        <path d=\"M19 3H5c-1.1 0-2 .9-2 2v14c0 1.1.9 2 2 2h14c1.1 0 2-.9 2-2V5c0-1.1-.9-2-2-2zM9 17H7v-7h2v7zm4 0h-2V7h2v10zm4 0h-2v-4h2v4z\"/>\n",
              "    </g>\n",
              "</svg>\n",
              "      </button>\n",
              "    </div>\n",
              "\n",
              "<style>\n",
              "  .colab-df-quickchart {\n",
              "    background-color: #E8F0FE;\n",
              "    border: none;\n",
              "    border-radius: 50%;\n",
              "    cursor: pointer;\n",
              "    display: none;\n",
              "    fill: #1967D2;\n",
              "    height: 32px;\n",
              "    padding: 0 0 0 0;\n",
              "    width: 32px;\n",
              "  }\n",
              "\n",
              "  .colab-df-quickchart:hover {\n",
              "    background-color: #E2EBFA;\n",
              "    box-shadow: 0px 1px 2px rgba(60, 64, 67, 0.3), 0px 1px 3px 1px rgba(60, 64, 67, 0.15);\n",
              "    fill: #174EA6;\n",
              "  }\n",
              "\n",
              "  [theme=dark] .colab-df-quickchart {\n",
              "    background-color: #3B4455;\n",
              "    fill: #D2E3FC;\n",
              "  }\n",
              "\n",
              "  [theme=dark] .colab-df-quickchart:hover {\n",
              "    background-color: #434B5C;\n",
              "    box-shadow: 0px 1px 3px 1px rgba(0, 0, 0, 0.15);\n",
              "    filter: drop-shadow(0px 1px 2px rgba(0, 0, 0, 0.3));\n",
              "    fill: #FFFFFF;\n",
              "  }\n",
              "</style>\n",
              "\n",
              "    <script>\n",
              "      async function quickchart(key) {\n",
              "        const containerElement = document.querySelector('#' + key);\n",
              "        const charts = await google.colab.kernel.invokeFunction(\n",
              "            'suggestCharts', [key], {});\n",
              "      }\n",
              "    </script>\n",
              "\n",
              "      <script>\n",
              "\n",
              "function displayQuickchartButton(domScope) {\n",
              "  let quickchartButtonEl =\n",
              "    domScope.querySelector('#df-9aa70711-53de-4a76-a29b-50d05533fcb6 button.colab-df-quickchart');\n",
              "  quickchartButtonEl.style.display =\n",
              "    google.colab.kernel.accessAllowed ? 'block' : 'none';\n",
              "}\n",
              "\n",
              "        displayQuickchartButton(document);\n",
              "      </script>\n",
              "      <style>\n",
              "    .colab-df-container {\n",
              "      display:flex;\n",
              "      flex-wrap:wrap;\n",
              "      gap: 12px;\n",
              "    }\n",
              "\n",
              "    .colab-df-convert {\n",
              "      background-color: #E8F0FE;\n",
              "      border: none;\n",
              "      border-radius: 50%;\n",
              "      cursor: pointer;\n",
              "      display: none;\n",
              "      fill: #1967D2;\n",
              "      height: 32px;\n",
              "      padding: 0 0 0 0;\n",
              "      width: 32px;\n",
              "    }\n",
              "\n",
              "    .colab-df-convert:hover {\n",
              "      background-color: #E2EBFA;\n",
              "      box-shadow: 0px 1px 2px rgba(60, 64, 67, 0.3), 0px 1px 3px 1px rgba(60, 64, 67, 0.15);\n",
              "      fill: #174EA6;\n",
              "    }\n",
              "\n",
              "    [theme=dark] .colab-df-convert {\n",
              "      background-color: #3B4455;\n",
              "      fill: #D2E3FC;\n",
              "    }\n",
              "\n",
              "    [theme=dark] .colab-df-convert:hover {\n",
              "      background-color: #434B5C;\n",
              "      box-shadow: 0px 1px 3px 1px rgba(0, 0, 0, 0.15);\n",
              "      filter: drop-shadow(0px 1px 2px rgba(0, 0, 0, 0.3));\n",
              "      fill: #FFFFFF;\n",
              "    }\n",
              "  </style>\n",
              "\n",
              "      <script>\n",
              "        const buttonEl =\n",
              "          document.querySelector('#df-e3c85d74-02ea-4e23-b411-43e21dfff9d7 button.colab-df-convert');\n",
              "        buttonEl.style.display =\n",
              "          google.colab.kernel.accessAllowed ? 'block' : 'none';\n",
              "\n",
              "        async function convertToInteractive(key) {\n",
              "          const element = document.querySelector('#df-e3c85d74-02ea-4e23-b411-43e21dfff9d7');\n",
              "          const dataTable =\n",
              "            await google.colab.kernel.invokeFunction('convertToInteractive',\n",
              "                                                     [key], {});\n",
              "          if (!dataTable) return;\n",
              "\n",
              "          const docLinkHtml = 'Like what you see? Visit the ' +\n",
              "            '<a target=\"_blank\" href=https://colab.research.google.com/notebooks/data_table.ipynb>data table notebook</a>'\n",
              "            + ' to learn more about interactive tables.';\n",
              "          element.innerHTML = '';\n",
              "          dataTable['output_type'] = 'display_data';\n",
              "          await google.colab.output.renderOutput(dataTable, element);\n",
              "          const docLink = document.createElement('div');\n",
              "          docLink.innerHTML = docLinkHtml;\n",
              "          element.appendChild(docLink);\n",
              "        }\n",
              "      </script>\n",
              "    </div>\n",
              "  </div>\n"
            ],
            "text/plain": [
              "                                                    Text  Label  \\\n",
              "0      I recently went through a breakup and she said...      0   \n",
              "1      I do not know how to navigate these feelings  ...      0   \n",
              "2      So I have been with my bf for 5 months   and h...      0   \n",
              "3      I am so exhausted of this  Just when I think I...      1   \n",
              "4      I have been severly bullied since i was 5 till...      0   \n",
              "...                                                  ...    ...   \n",
              "20358  I took 50mg of seroquel a few hours after I dr...      1   \n",
              "20359  that is what has happened to me last week  And...      0   \n",
              "20360  Ever just feel alone in a house full of people...      0   \n",
              "20361  Politicians  Neighbors  Corporations  Society ...      0   \n",
              "20362  I feel like I am just existing  but for what  ...      0   \n",
              "\n",
              "                                                  Tokens  Length  \n",
              "0      [I, recently, went, through, a, breakup, and, ...     121  \n",
              "1      [I, do, not, know, how, to, navigate, these, f...     308  \n",
              "2      [So, I, have, been, with, my, bf, for, 5, mont...     131  \n",
              "3      [I, am, so, exhausted, of, this, Just, when, I...     349  \n",
              "4      [I, have, been, severly, bullied, since, i, wa...     198  \n",
              "...                                                  ...     ...  \n",
              "20358  [I, took, 50mg, of, seroquel, a, few, hours, a...      35  \n",
              "20359  [that, is, what, has, happened, to, me, last, ...     119  \n",
              "20360  [Ever, just, feel, alone, in, a, house, full, ...      20  \n",
              "20361  [Politicians, Neighbors, Corporations, Society...      31  \n",
              "20362  [I, feel, like, I, am, just, existing, but, fo...     133  \n",
              "\n",
              "[20363 rows x 4 columns]"
            ]
          },
          "execution_count": 6,
          "metadata": {},
          "output_type": "execute_result"
        }
      ],
      "source": [
        "## Preparing the data\n",
        "reddit_path = DS_Path + \"/Reddit_depressionSuicide/reddit_depression_suicidewatch.csv\"\n",
        "\n",
        "df = pd.read_csv(reddit_path, encoding='latin-1')\n",
        "df = df.rename(columns={'text':'Text', 'label':'Label'})\n",
        "label_dict = {'depression': 0, 'SuicideWatch': 1}\n",
        "df['Label'] = df['Label'].apply(lambda row: label_dict[row])\n",
        "df = preprocessing(df)\n",
        "df"
      ]
    },
    {
      "cell_type": "markdown",
      "metadata": {
        "id": "_e3KxycdDOoo"
      },
      "source": [
        "# Word Embeddings"
      ]
    },
    {
      "cell_type": "markdown",
      "metadata": {
        "id": "B13Rgd6tQq4b"
      },
      "source": [
        "## Download Model"
      ]
    },
    {
      "cell_type": "code",
      "execution_count": null,
      "metadata": {
        "id": "K8Z3IzSwODD0"
      },
      "outputs": [],
      "source": [
        "## Just for testing the model\n",
        "# glove_model = api.load(\"glove-wiki-gigaword-50\")\n",
        "# glove_model.most_similar(\"glass\")"
      ]
    },
    {
      "cell_type": "code",
      "execution_count": null,
      "metadata": {
        "colab": {
          "base_uri": "https://localhost:8080/"
        },
        "id": "LlP3qOp1NXRf",
        "outputId": "5c00e623-8b4e-4d9b-919b-9cf8369ee856"
      },
      "outputs": [
        {
          "name": "stdout",
          "output_type": "stream",
          "text": [
            "dict_keys(['corpora', 'models'])\n",
            "__testing_word2vec-matrix-synopsis (-1 records): [THIS IS ONLY FOR TESTING] Word vecrors ...\n",
            "conceptnet-numberbatch-17-06-300 (1917247 records): ConceptNet Numberbatch consists of state...\n",
            "fasttext-wiki-news-subwords-300 (999999 records): 1 million word vectors trained on Wikipe...\n",
            "glove-twitter-100 (1193514 records): Pre-trained vectors based on  2B tweets,...\n",
            "glove-twitter-200 (1193514 records): Pre-trained vectors based on 2B tweets, ...\n",
            "glove-twitter-25 (1193514 records): Pre-trained vectors based on 2B tweets, ...\n",
            "glove-twitter-50 (1193514 records): Pre-trained vectors based on 2B tweets, ...\n",
            "glove-wiki-gigaword-100 (400000 records): Pre-trained vectors based on Wikipedia 2...\n",
            "glove-wiki-gigaword-200 (400000 records): Pre-trained vectors based on Wikipedia 2...\n",
            "glove-wiki-gigaword-300 (400000 records): Pre-trained vectors based on Wikipedia 2...\n",
            "glove-wiki-gigaword-50 (400000 records): Pre-trained vectors based on Wikipedia 2...\n",
            "word2vec-google-news-300 (3000000 records): Pre-trained vectors trained on a part of...\n",
            "word2vec-ruscorpora-300 (184973 records): Word2vec Continuous Skipgram vectors tra...\n"
          ]
        }
      ],
      "source": [
        "import gensim.downloader as api\n",
        "\n",
        "import json\n",
        "info = api.info()\n",
        "print(info.keys())\n",
        "\n",
        "for model_name, model_data in sorted(info['models'].items()):\n",
        "    print(\n",
        "        '%s (%d records): %s' % (\n",
        "            model_name,\n",
        "            model_data.get('num_records', -1),\n",
        "            model_data['description'][:40] + '...',\n",
        "        )\n",
        "    )"
      ]
    },
    {
      "cell_type": "code",
      "execution_count": null,
      "metadata": {
        "colab": {
          "base_uri": "https://localhost:8080/"
        },
        "id": "w89ATOQEK704",
        "outputId": "daec55a9-ae0d-41a4-b0a9-0831cd4e7192"
      },
      "outputs": [
        {
          "name": "stdout",
          "output_type": "stream",
          "text": [
            "[==================================================] 100.0% 958.5/958.4MB downloaded\n"
          ]
        }
      ],
      "source": [
        "embeddings = {0: \"word2vec-google-news-300\", 1: \"fasttext-wiki-news-subwords-300\", 2: \"glove-twitter-100\"}\n",
        "embedding_format = 1\n",
        "embed_dim = 300\n",
        "\n",
        "embedding_model = api.load(embeddings[embedding_format])"
      ]
    },
    {
      "cell_type": "code",
      "execution_count": null,
      "metadata": {
        "colab": {
          "base_uri": "https://localhost:8080/"
        },
        "id": "JTwcHT-dNycz",
        "outputId": "57ae2625-d801-48f9-9af4-697aecc50c24"
      },
      "outputs": [
        {
          "name": "stdout",
          "output_type": "stream",
          "text": [
            "[('kills', 0.7860026955604553), ('killing', 0.7399880290031433), ('destroy', 0.7350039482116699), ('maim', 0.7278950810432434), ('decapitate', 0.7270759344100952), ('slay', 0.7220808267593384), ('killy', 0.721636176109314), ('kill-', 0.7112785577774048), ('kill.', 0.705057680606842), ('killed', 0.7015096545219421)]\n"
          ]
        }
      ],
      "source": [
        "similar_words = embedding_model.most_similar('kill')\n",
        "print(similar_words)"
      ]
    },
    {
      "cell_type": "code",
      "execution_count": null,
      "metadata": {
        "colab": {
          "base_uri": "https://localhost:8080/"
        },
        "id": "uKbF8XNEUfxH",
        "outputId": "85d4995f-80a6-4f9c-c719-386991223f56"
      },
      "outputs": [
        {
          "name": "stdout",
          "output_type": "stream",
          "text": [
            "The total number of words are :  999999\n",
            "The no of key-value pairs :  999999\n",
            "maximum length =  9360\n",
            "pad_shape =  (20363, 9360)\n",
            "(35627, 300)\n"
          ]
        }
      ],
      "source": [
        "## Creating the embedding matrix\n",
        "\n",
        "# vocab = wd2vc_model.wv.vocab ## gensim 3\n",
        "vocab = embedding_model.key_to_index\n",
        "print(\"The total number of words are : \", len(vocab))\n",
        "vocab = list(vocab.keys())\n",
        "\n",
        "word_vec_dict = {}\n",
        "for word in vocab:\n",
        "    word_vec_dict[word] = embedding_model.get_vector(word)\n",
        "print(\"The no of key-value pairs : \", len(word_vec_dict))  # should come equal to vocab size\n",
        "\n",
        "max_length = max(df['Length'])\n",
        "print(\"maximum length = \", max_length)\n",
        "\n",
        "tok = Tokenizer()\n",
        "tok.fit_on_texts(df['Tokens'])\n",
        "vocab_size = len(tok.word_index) + 1\n",
        "\n",
        "encd_rev = tok.texts_to_sequences(df['Tokens'])\n",
        "\n",
        "pad_rev = pad_sequences(encd_rev, maxlen=max_length, padding='post')\n",
        "print(\"pad_shape = \", pad_rev.shape)\n",
        "\n",
        "# the embedding matrix\n",
        "embed_matrix = np.zeros(shape=(vocab_size, embed_dim))\n",
        "print(embed_matrix.shape)\n",
        "for word, i in tok.word_index.items():\n",
        "    embed_vector = word_vec_dict.get(word)\n",
        "    if embed_vector is not None:\n",
        "        embed_matrix[i] = embed_vector"
      ]
    },
    {
      "cell_type": "markdown",
      "metadata": {
        "id": "U9ezeNgfujyw"
      },
      "source": [
        "## FastText (Trained on Data)"
      ]
    },
    {
      "cell_type": "code",
      "execution_count": null,
      "metadata": {
        "id": "yxnXAOhNumM1"
      },
      "outputs": [],
      "source": [
        "from gensim.models import FastText"
      ]
    },
    {
      "cell_type": "code",
      "execution_count": null,
      "metadata": {
        "colab": {
          "base_uri": "https://localhost:8080/"
        },
        "id": "0gj-hDhAvDD2",
        "outputId": "ee407e8c-32f2-4e25-9693-156db1a3ce95"
      },
      "outputs": [
        {
          "name": "stderr",
          "output_type": "stream",
          "text": [
            "WARNING:gensim.models.word2vec:Effective 'alpha' higher than previous training cycles\n"
          ]
        },
        {
          "data": {
            "text/plain": [
              "(24029178, 34439360)"
            ]
          },
          "execution_count": 8,
          "metadata": {},
          "output_type": "execute_result"
        }
      ],
      "source": [
        "# word2vec embedding\n",
        "## vector_size == size\n",
        "fasttext_model = FastText(df['Tokens'], min_count = 1, vector_size = 140, window = 5)\n",
        "fasttext_model.train(df['Tokens'],epochs=10,total_examples=len(df['Tokens']))\n",
        "embed_dim = 140"
      ]
    },
    {
      "cell_type": "code",
      "execution_count": null,
      "metadata": {
        "colab": {
          "base_uri": "https://localhost:8080/"
        },
        "id": "6HDMoP87vDD3",
        "outputId": "653b5d00-2e11-4c25-ce0b-b35bae96acfe"
      },
      "outputs": [
        {
          "name": "stdout",
          "output_type": "stream",
          "text": [
            "[('killl', 0.9681843519210815), ('_kill', 0.9277268648147583), ('kil', 0.9150969386100769), ('killjoy', 0.8808884620666504), ('killin', 0.8704385161399841), ('kilos', 0.8506656289100647), ('killer', 0.8293404579162598), ('killed', 0.7409729957580566), ('killers', 0.7314273715019226), ('kills', 0.7284785509109497)]\n"
          ]
        }
      ],
      "source": [
        "# words most similar to a given word.\n",
        "similar_words = fasttext_model.wv.most_similar('kill')\n",
        "print(similar_words)"
      ]
    },
    {
      "cell_type": "code",
      "execution_count": null,
      "metadata": {
        "colab": {
          "base_uri": "https://localhost:8080/"
        },
        "id": "smSM0Gr1vDD4",
        "outputId": "36f54874-d83f-49cf-900a-be96e4a8d1d5"
      },
      "outputs": [
        {
          "name": "stdout",
          "output_type": "stream",
          "text": [
            "The total number of words are :  42762\n",
            "The no of key-value pairs :  42762\n",
            "maximum length =  9360\n",
            "pad_shape =  (20363, 9360)\n",
            "(35627, 140)\n"
          ]
        }
      ],
      "source": [
        "## Creating the embedding matrix\n",
        "\n",
        "# vocab = wd2vc_model.wv.vocab ## gensim 3\n",
        "vocab = fasttext_model.wv.key_to_index\n",
        "print(\"The total number of words are : \", len(vocab))\n",
        "vocab = list(vocab.keys())\n",
        "\n",
        "word_vec_dict = {}\n",
        "for word in vocab:\n",
        "    word_vec_dict[word] = fasttext_model.wv.get_vector(word)\n",
        "print(\"The no of key-value pairs : \", len(word_vec_dict))  # should come equal to vocab size\n",
        "\n",
        "max_length = max(df['Length'])\n",
        "print(\"maximum length = \", max_length)\n",
        "\n",
        "tok = Tokenizer()\n",
        "tok.fit_on_texts(df['Tokens'])\n",
        "vocab_size = len(tok.word_index) + 1\n",
        "\n",
        "encd_rev = tok.texts_to_sequences(df['Tokens'])\n",
        "\n",
        "pad_rev = pad_sequences(encd_rev, maxlen=max_length, padding='post')\n",
        "print(\"pad_shape = \", pad_rev.shape)\n",
        "\n",
        "# the embedding matrix\n",
        "embed_matrix = np.zeros(shape=(vocab_size, embed_dim))\n",
        "print(embed_matrix.shape)\n",
        "for word, i in tok.word_index.items():\n",
        "    embed_vector = word_vec_dict.get(word)\n",
        "    if embed_vector is not None:\n",
        "        embed_matrix[i] = embed_vector"
      ]
    },
    {
      "cell_type": "markdown",
      "metadata": {
        "id": "cqLFWv2FU_Yk"
      },
      "source": [
        "## Train_Validation_Test data"
      ]
    },
    {
      "cell_type": "code",
      "execution_count": null,
      "metadata": {
        "colab": {
          "base_uri": "https://localhost:8080/"
        },
        "id": "Qb3c26CHU9ep",
        "outputId": "fd78937c-2151-425e-f57a-0225624f277e"
      },
      "outputs": [
        {
          "name": "stdout",
          "output_type": "stream",
          "text": [
            "Train =  (13032, 9360) (13032,)\n",
            "Test =  (4073, 9360) (4073,)\n",
            "Validation =  (3258, 9360) (3258,)\n"
          ]
        }
      ],
      "source": [
        "## Spliting the data\n",
        "X, X_test, y, y_test = train_test_split(pad_rev, df['Label'], shuffle=True, test_size=0.2, random_state=42)\n",
        "\n",
        "X_train, X_val, y_train, y_val = train_test_split(X, y, test_size=0.2, random_state=33)\n",
        "\n",
        "print(\"Train = \", X_train.shape, y_train.shape)\n",
        "print(\"Test = \", X_test.shape, y_test.shape)\n",
        "print(\"Validation = \",X_val.shape, y_val.shape)"
      ]
    },
    {
      "cell_type": "markdown",
      "metadata": {
        "id": "MXlQhEOIVRCk"
      },
      "source": [
        "# Attention_based hybrid BiLSTM - CNN model"
      ]
    },
    {
      "cell_type": "code",
      "execution_count": null,
      "metadata": {
        "id": "iduAUBpUGTh7"
      },
      "outputs": [],
      "source": [
        "class LuongAttention(tf.keras.Model):\n",
        "    def __init__(self, rnn_size, attention_func):\n",
        "        super(LuongAttention, self).__init__()\n",
        "        self.attention_func = attention_func\n",
        "\n",
        "        if attention_func not in ['dot', 'general', 'concat']:\n",
        "            raise ValueError(\n",
        "                'Unknown attention score function! Must be either dot, general or concat.')\n",
        "\n",
        "        if attention_func == 'general':\n",
        "            # General score function\n",
        "            self.wa = tf.keras.layers.Dense(rnn_size)\n",
        "        elif attention_func == 'concat':\n",
        "            # Concat score function\n",
        "            self.wa = tf.keras.layers.Dense(rnn_size, activation='tanh')\n",
        "            self.va = tf.keras.layers.Dense(1)\n",
        "\n",
        "    def call(self, decoder_output, encoder_output):\n",
        "        if self.attention_func == 'dot':\n",
        "            # Dot score function: decoder_output (dot) encoder_output\n",
        "            # decoder_output has shape: (batch_size, 1, rnn_size)\n",
        "            # encoder_output has shape: (batch_size, max_len, rnn_size)\n",
        "            # => score has shape: (batch_size, 1, max_len)\n",
        "            score = tf.matmul(decoder_output, encoder_output, transpose_b=True)\n",
        "        elif self.attention_func == 'general':\n",
        "            # General score function: decoder_output (dot) (Wa (dot) encoder_output)\n",
        "            # decoder_output has shape: (batch_size, 1, rnn_size)\n",
        "            # encoder_output has shape: (batch_size, max_len, rnn_size)\n",
        "            # => score has shape: (batch_size, 1, max_len)\n",
        "            score = tf.matmul(decoder_output, self.wa(\n",
        "                encoder_output), transpose_b=True)\n",
        "        elif self.attention_func == 'concat':\n",
        "            # Concat score function: va (dot) tanh(Wa (dot) concat(decoder_output + encoder_output))\n",
        "            # Decoder output must be broadcasted to encoder output's shape first\n",
        "            decoder_output = tf.tile(\n",
        "                decoder_output, [1, encoder_output.shape[1], 1])\n",
        "\n",
        "            # Concat => Wa => va\n",
        "            # (batch_size, max_len, 2 * rnn_size) => (batch_size, max_len, rnn_size) => (batch_size, max_len, 1)\n",
        "            score = self.va(\n",
        "                self.wa(tf.concat((decoder_output, encoder_output), axis=-1)))\n",
        "\n",
        "            # Transpose score vector to have the same shape as other two above\n",
        "            # (batch_size, max_len, 1) => (batch_size, 1, max_len)\n",
        "            score = tf.transpose(score, [0, 2, 1])\n",
        "\n",
        "        # alignment a_t = softmax(score)\n",
        "        alignment = tf.nn.softmax(score, axis=2)\n",
        "\n",
        "        # context vector c_t is the weighted average sum of encoder output\n",
        "        context = tf.matmul(alignment, encoder_output)\n",
        "\n",
        "        return context, alignment"
      ]
    },
    {
      "cell_type": "code",
      "execution_count": null,
      "metadata": {
        "colab": {
          "base_uri": "https://localhost:8080/"
        },
        "id": "yr2FkGVMV5cu",
        "outputId": "32ba2440-1a50-42ad-8ec3-444961302c53"
      },
      "outputs": [
        {
          "name": "stdout",
          "output_type": "stream",
          "text": [
            "conv shape (None, 9358, 50)\n",
            "before output shape (None, 50)\n"
          ]
        }
      ],
      "source": [
        "# from tensorflow.keras.layers import Bidirectional, LSTM, Dense, Input, Embedding, Conv1D, GlobalMaxPooling1D, Dropout\n",
        "from tensorflow.keras.layers import Bidirectional, Dense, Input, Embedding, Conv1D, GlobalMaxPooling1D, Dropout\n",
        "from tensorflow.compat.v1.keras.layers import CuDNNLSTM\n",
        "from tensorflow.keras import regularizers\n",
        "from tensorflow.keras.models import *\n",
        "\n",
        "Attention = LuongAttention(20, 'dot')\n",
        "\n",
        "def hybrid_model(kernel_size = 3, input_dim = vocab_size, output_dim=100, max_length = None, emb_matrix = None):\n",
        "\n",
        "    inp = Input(shape=(max_length,))\n",
        "    x = Embedding(input_dim=input_dim,\n",
        "                  output_dim=output_dim,\n",
        "                  input_length=max_length,\n",
        "                  weights = [emb_matrix],\n",
        "                  trainable = False)(inp)\n",
        "\n",
        "    x = Bidirectional(CuDNNLSTM(100, stateful=False, return_sequences = True))(x)\n",
        "    # x = tf.keras.activations.sigmoid(x)\n",
        "    x = CuDNNLSTM(100, stateful=False, return_sequences = True)(x)\n",
        "    # x = tf.keras.activations.sigmoid(x)\n",
        "\n",
        "    x = Conv1D(50, kernel_size, activation='relu')(x)\n",
        "\n",
        "    print(\"conv shape\", x.shape)\n",
        "    x = Attention(x,x)[0]\n",
        "    x = Dense(50, activation=\"relu\", kernel_regularizer=regularizers.L1L2(l1=1e-5, l2=1e-4))(x)\n",
        "\n",
        "    x = GlobalMaxPooling1D()(x)\n",
        "    x = Dense(250, activation=\"relu\")(x)\n",
        "    x = Dropout(0.5)(x)\n",
        "    x = Dense(50, activation=\"relu\")(x)\n",
        "    x = Dropout(0.5)(x)\n",
        "    print(\"before output shape\", x.shape)\n",
        "    outp = Dense(2, activation=\"softmax\")(x)\n",
        "    # outp = Dense(1, activation=\"sigmoid\")(x)\n",
        "\n",
        "    model = Model(inputs=inp, outputs=outp)\n",
        "    # model.compile( loss = 'binary_crossentropy', optimizer = 'adam', metrics = ['accuracy'])\n",
        "\n",
        "    opt = tf.keras.optimizers.AdamW(learning_rate=1e-5)\n",
        "    model.compile(loss = 'sparse_categorical_crossentropy', optimizer = opt, metrics = ['accuracy'])\n",
        "\n",
        "\n",
        "    return model\n",
        "\n",
        "model= hybrid_model(kernel_size = 3, input_dim = vocab_size, output_dim=embed_dim, max_length = max_length, emb_matrix = embed_matrix)\n",
        "\n",
        "# model.summary()"
      ]
    },
    {
      "cell_type": "markdown",
      "metadata": {
        "id": "WDPhsotOssJj"
      },
      "source": [
        "## Loading the pretrained model"
      ]
    },
    {
      "cell_type": "code",
      "execution_count": null,
      "metadata": {
        "id": "213ea_XD445J"
      },
      "outputs": [],
      "source": [
        "# Restore the weights\n",
        "model.load_weights('/model_save/Reddit_SD_10epochs.keras')"
      ]
    },
    {
      "cell_type": "markdown",
      "metadata": {
        "id": "ulI_WOVY2ZD4"
      },
      "source": [
        "## Training"
      ]
    },
    {
      "cell_type": "code",
      "execution_count": null,
      "metadata": {
        "id": "8PU0gMsa3pS6"
      },
      "outputs": [],
      "source": [
        "epochs = 10\n",
        "batch_size = 8\n",
        "r = model.fit(X_train, y_train, epochs=epochs, batch_size=batch_size, validation_data=(X_val, y_val))"
      ]
    },
    {
      "cell_type": "code",
      "execution_count": null,
      "metadata": {
        "id": "TadORPYV21Pi"
      },
      "outputs": [],
      "source": [
        "model.save_weights(\"/test_model_save/Reddit_SD_10epochs.keras\")"
      ]
    },
    {
      "cell_type": "markdown",
      "metadata": {
        "id": "U3k2t1W3Ydi6"
      },
      "source": [
        "# Prediction"
      ]
    },
    {
      "cell_type": "code",
      "execution_count": null,
      "metadata": {
        "colab": {
          "base_uri": "https://localhost:8080/"
        },
        "id": "pds1OThhmMSW",
        "outputId": "279f236d-f7fa-4c14-da53-992ad272c493"
      },
      "outputs": [
        {
          "name": "stdout",
          "output_type": "stream",
          "text": [
            "429/429 [==============================] - 3s 6ms/step\n",
            "[[0.9477351  0.094732  ]\n",
            " [0.9575737  0.0813785 ]\n",
            " [0.43412644 0.66035265]\n",
            " ...\n",
            " [0.99399924 0.02799826]\n",
            " [0.7571001  0.30708516]\n",
            " [0.5274199  0.5252255 ]]\n"
          ]
        }
      ],
      "source": [
        "#Prediction on the test data\n",
        "pred = model.predict(X_test, batch_size=8)\n",
        "print(pred)"
      ]
    },
    {
      "cell_type": "code",
      "execution_count": null,
      "metadata": {
        "colab": {
          "base_uri": "https://localhost:8080/"
        },
        "id": "qhsfpqj0mPoG",
        "outputId": "c4119be7-a225-4a06-d7c6-baf412a35cf4"
      },
      "outputs": [
        {
          "name": "stdout",
          "output_type": "stream",
          "text": [
            "[0. 0. 1. ... 0. 0. 0.]\n"
          ]
        }
      ],
      "source": [
        "y_pred = np.zeros(len(pred))\n",
        "for item in range(len(pred)):\n",
        "  y_pred[item] = list(pred[item]).index(max(pred[item]))\n",
        "  # y_pred[item] = 0 if pred[item]<0.5 else 1\n",
        "\n",
        "print(y_pred)"
      ]
    },
    {
      "cell_type": "code",
      "execution_count": null,
      "metadata": {
        "colab": {
          "base_uri": "https://localhost:8080/"
        },
        "id": "xm-zXpTmmXs_",
        "outputId": "d9b0658c-282f-4b06-d1e3-9b7e3e545690"
      },
      "outputs": [
        {
          "name": "stdout",
          "output_type": "stream",
          "text": [
            "              precision    recall  f1-score   support\n",
            "\n",
            "           0       0.94      0.94      0.94      2658\n",
            "           1       0.79      0.78      0.78       771\n",
            "\n",
            "    accuracy                           0.90      3429\n",
            "   macro avg       0.86      0.86      0.86      3429\n",
            "weighted avg       0.90      0.90      0.90      3429\n",
            "\n",
            "-----------------------\n",
            "0.9031787693205016\n",
            "0.7861799217731421\n",
            "0.7821011673151751\n",
            "0.7841352405721717\n"
          ]
        }
      ],
      "source": [
        "import sklearn\n",
        "\n",
        "report = sklearn.metrics.classification_report(y_test, y_pred)\n",
        "print(report)\n",
        "accuracy = sklearn.metrics.accuracy_score(y_test, y_pred)\n",
        "precision = sklearn.metrics.precision_score(y_test, y_pred)\n",
        "recall = sklearn.metrics.recall_score(y_test, y_pred)\n",
        "f1score = sklearn.metrics.f1_score(y_test, y_pred)\n",
        "print(\"-----------------------\")\n",
        "print(accuracy)\n",
        "print(precision)\n",
        "print(recall)\n",
        "print(f1score)"
      ]
    }
  ],
  "metadata": {
    "accelerator": "GPU",
    "colab": {
      "collapsed_sections": [
        "Y3Hj8CPuAo6F",
        "nSPSlQHKEz7O",
        "pmstlmTy34bz",
        "B13Rgd6tQq4b",
        "U9ezeNgfujyw",
        "cqLFWv2FU_Yk"
      ],
      "provenance": []
    },
    "kernelspec": {
      "display_name": "Python 3",
      "name": "python3"
    },
    "language_info": {
      "name": "python"
    }
  },
  "nbformat": 4,
  "nbformat_minor": 0
}
